{
 "cells": [
  {
   "cell_type": "markdown",
   "metadata": {
    "colab_type": "text",
    "id": "ZL_6GK8qX35J"
   },
   "source": [
    "\n",
    "\n",
    "# Week 1: Multiple Output Models using the Keras Functional API\n",
    "\n",
    "Welcome to the first programming assignment of the course! Your task will be to use the Keras functional API to train a model to predict two outputs. For this lab, you will use the **[Wine Quality Dataset](https://archive.ics.uci.edu/ml/datasets/Wine+Quality)** from the **UCI machine learning repository**. It has separate datasets for red wine and white wine.\n",
    "\n",
    "Normally, the wines are classified into one of the quality ratings specified in the attributes. In this exercise, you will combine the two datasets to predict the wine quality and whether the wine is red or white solely from the attributes. \n",
    "\n",
    "You will model wine quality estimations as a regression problem and wine type detection as a binary classification problem.\n",
    "\n",
    "#### Please complete sections that are marked **(TODO)**"
   ]
  },
  {
   "cell_type": "markdown",
   "metadata": {
    "colab_type": "text",
    "id": "obdcD6urYBY9"
   },
   "source": [
    "## Imports"
   ]
  },
  {
   "cell_type": "code",
   "execution_count": 1,
   "metadata": {
    "colab": {},
    "colab_type": "code",
    "id": "t8N3pcTQ5oQI"
   },
   "outputs": [],
   "source": [
    "import tensorflow as tf\n",
    "from tensorflow.keras.models import Model\n",
    "from tensorflow.keras.layers import Dense, Input\n",
    "\n",
    "import numpy as np\n",
    "import matplotlib.pyplot as plt\n",
    "import pandas as pd\n",
    "from sklearn.model_selection import train_test_split\n",
    "from sklearn.metrics import confusion_matrix\n",
    "import itertools\n",
    "\n",
    "import utils"
   ]
  },
  {
   "cell_type": "markdown",
   "metadata": {
    "colab_type": "text",
    "id": "gQMERzWQYpgm"
   },
   "source": [
    "## Load Dataset\n",
    "\n",
    "\n",
    "You will now load the dataset from the [UCI Machine Learning Repository](https://archive.ics.uci.edu/ml/index.php) which are already saved in your workspace.\n",
    "\n",
    "### Pre-process the white wine dataset (TODO)\n",
    "You will add a new column named `is_red` in your dataframe to indicate if the wine is white or red. \n",
    "- In the white wine dataset, you will fill the column `is_red` with  zeros (0)."
   ]
  },
  {
   "cell_type": "code",
   "execution_count": 2,
   "metadata": {
    "colab": {},
    "colab_type": "code",
    "deletable": false,
    "id": "2qYAjKXCd4RH",
    "nbgrader": {
     "cell_type": "code",
     "checksum": "325ea195519b7035934c95bb529a062c",
     "grade": false,
     "grade_id": "cell-e5bfa0f152d9a21f",
     "locked": false,
     "schema_version": 3,
     "solution": true,
     "task": false
    }
   },
   "outputs": [
    {
     "data": {
      "text/html": [
       "<div>\n",
       "<style scoped>\n",
       "    .dataframe tbody tr th:only-of-type {\n",
       "        vertical-align: middle;\n",
       "    }\n",
       "\n",
       "    .dataframe tbody tr th {\n",
       "        vertical-align: top;\n",
       "    }\n",
       "\n",
       "    .dataframe thead th {\n",
       "        text-align: right;\n",
       "    }\n",
       "</style>\n",
       "<table border=\"1\" class=\"dataframe\">\n",
       "  <thead>\n",
       "    <tr style=\"text-align: right;\">\n",
       "      <th></th>\n",
       "      <th>fixed acidity</th>\n",
       "      <th>volatile acidity</th>\n",
       "      <th>citric acid</th>\n",
       "      <th>residual sugar</th>\n",
       "      <th>chlorides</th>\n",
       "      <th>free sulfur dioxide</th>\n",
       "      <th>total sulfur dioxide</th>\n",
       "      <th>density</th>\n",
       "      <th>pH</th>\n",
       "      <th>sulphates</th>\n",
       "      <th>alcohol</th>\n",
       "      <th>quality</th>\n",
       "      <th>is_red</th>\n",
       "    </tr>\n",
       "  </thead>\n",
       "  <tbody>\n",
       "    <tr>\n",
       "      <th>0</th>\n",
       "      <td>7.0</td>\n",
       "      <td>0.27</td>\n",
       "      <td>0.36</td>\n",
       "      <td>20.7</td>\n",
       "      <td>0.045</td>\n",
       "      <td>45.0</td>\n",
       "      <td>170.0</td>\n",
       "      <td>1.0010</td>\n",
       "      <td>3.00</td>\n",
       "      <td>0.45</td>\n",
       "      <td>8.8</td>\n",
       "      <td>6</td>\n",
       "      <td>0</td>\n",
       "    </tr>\n",
       "    <tr>\n",
       "      <th>1</th>\n",
       "      <td>6.3</td>\n",
       "      <td>0.30</td>\n",
       "      <td>0.34</td>\n",
       "      <td>1.6</td>\n",
       "      <td>0.049</td>\n",
       "      <td>14.0</td>\n",
       "      <td>132.0</td>\n",
       "      <td>0.9940</td>\n",
       "      <td>3.30</td>\n",
       "      <td>0.49</td>\n",
       "      <td>9.5</td>\n",
       "      <td>6</td>\n",
       "      <td>0</td>\n",
       "    </tr>\n",
       "    <tr>\n",
       "      <th>2</th>\n",
       "      <td>8.1</td>\n",
       "      <td>0.28</td>\n",
       "      <td>0.40</td>\n",
       "      <td>6.9</td>\n",
       "      <td>0.050</td>\n",
       "      <td>30.0</td>\n",
       "      <td>97.0</td>\n",
       "      <td>0.9951</td>\n",
       "      <td>3.26</td>\n",
       "      <td>0.44</td>\n",
       "      <td>10.1</td>\n",
       "      <td>6</td>\n",
       "      <td>0</td>\n",
       "    </tr>\n",
       "    <tr>\n",
       "      <th>3</th>\n",
       "      <td>7.2</td>\n",
       "      <td>0.23</td>\n",
       "      <td>0.32</td>\n",
       "      <td>8.5</td>\n",
       "      <td>0.058</td>\n",
       "      <td>47.0</td>\n",
       "      <td>186.0</td>\n",
       "      <td>0.9956</td>\n",
       "      <td>3.19</td>\n",
       "      <td>0.40</td>\n",
       "      <td>9.9</td>\n",
       "      <td>6</td>\n",
       "      <td>0</td>\n",
       "    </tr>\n",
       "    <tr>\n",
       "      <th>6</th>\n",
       "      <td>6.2</td>\n",
       "      <td>0.32</td>\n",
       "      <td>0.16</td>\n",
       "      <td>7.0</td>\n",
       "      <td>0.045</td>\n",
       "      <td>30.0</td>\n",
       "      <td>136.0</td>\n",
       "      <td>0.9949</td>\n",
       "      <td>3.18</td>\n",
       "      <td>0.47</td>\n",
       "      <td>9.6</td>\n",
       "      <td>6</td>\n",
       "      <td>0</td>\n",
       "    </tr>\n",
       "  </tbody>\n",
       "</table>\n",
       "</div>"
      ],
      "text/plain": [
       "   fixed acidity  volatile acidity  citric acid  residual sugar  chlorides  \\\n",
       "0            7.0              0.27         0.36            20.7      0.045   \n",
       "1            6.3              0.30         0.34             1.6      0.049   \n",
       "2            8.1              0.28         0.40             6.9      0.050   \n",
       "3            7.2              0.23         0.32             8.5      0.058   \n",
       "6            6.2              0.32         0.16             7.0      0.045   \n",
       "\n",
       "   free sulfur dioxide  total sulfur dioxide  density    pH  sulphates  \\\n",
       "0                 45.0                 170.0   1.0010  3.00       0.45   \n",
       "1                 14.0                 132.0   0.9940  3.30       0.49   \n",
       "2                 30.0                  97.0   0.9951  3.26       0.44   \n",
       "3                 47.0                 186.0   0.9956  3.19       0.40   \n",
       "6                 30.0                 136.0   0.9949  3.18       0.47   \n",
       "\n",
       "   alcohol  quality  is_red  \n",
       "0      8.8        6       0  \n",
       "1      9.5        6       0  \n",
       "2     10.1        6       0  \n",
       "3      9.9        6       0  \n",
       "6      9.6        6       0  "
      ]
     },
     "execution_count": 2,
     "metadata": {},
     "output_type": "execute_result"
    }
   ],
   "source": [
    "# Please uncomment all lines in this cell and replace those marked with `# YOUR CODE HERE`.\n",
    "# You can select all lines in this code cell with Ctrl+A (Windows/Linux) or Cmd+A (Mac), then press Ctrl+/ (Windows/Linux) or Cmd+/ (Mac) to uncomment.\n",
    "\n",
    "\n",
    "\n",
    "# URL of the white wine dataset\n",
    "URI = './winequality-white.csv'\n",
    "\n",
    "# load the dataset from the URL\n",
    "white_df = pd.read_csv(URI, sep=\";\")\n",
    "\n",
    "# fill the `is_red` column with zeros.\n",
    "white_df[\"is_red\"] = 0\n",
    "# keep only the first of duplicate items\n",
    "# drop_duplicate loại bỏ các bản sao khỏi DataFrame ngoại trừ lần xuất hiện đầu tiên\n",
    "white_df = white_df.drop_duplicates(keep='first')\n",
    "white_df.head()"
   ]
  },
  {
   "cell_type": "code",
   "execution_count": 3,
   "metadata": {
    "deletable": false,
    "editable": false,
    "nbgrader": {
     "cell_type": "code",
     "checksum": "defe38d6ec58fd31cd67b89e46c4373f",
     "grade": true,
     "grade_id": "cell-30575e713b55fc51",
     "locked": true,
     "points": 1,
     "schema_version": 3,
     "solution": false,
     "task": false
    }
   },
   "outputs": [
    {
     "name": "stdout",
     "output_type": "stream",
     "text": [
      "\u001b[92m All public tests passed\n"
     ]
    }
   ],
   "source": [
    "# You can click `File -> Open` in the menu above and open the `utils.py` file \n",
    "# in case you want to inspect the unit tests being used for each graded function.\n",
    "\n",
    "utils.test_white_df(white_df)\n"
   ]
  },
  {
   "cell_type": "code",
   "execution_count": 4,
   "metadata": {
    "colab": {},
    "colab_type": "code",
    "id": "OQHK0ohBQRCk"
   },
   "outputs": [
    {
     "name": "stdout",
     "output_type": "stream",
     "text": [
      "8.8\n",
      "9.1\n"
     ]
    }
   ],
   "source": [
    "print(white_df.alcohol[0])\n",
    "print(white_df.alcohol[100])\n",
    "\n",
    "# EXPECTED OUTPUT\n",
    "# 8.8\n",
    "# 9.1"
   ]
  },
  {
   "cell_type": "markdown",
   "metadata": {},
   "source": [
    "### Pre-process the red wine dataset (TODO)\n",
    "- In the red wine dataset, you will fill in the column `is_red` with ones (1)."
   ]
  },
  {
   "cell_type": "code",
   "execution_count": 5,
   "metadata": {
    "colab": {},
    "colab_type": "code",
    "deletable": false,
    "id": "8y3QxKwBed8v",
    "nbgrader": {
     "cell_type": "code",
     "checksum": "12e0963d15be33b01b4e6ebc8945e51e",
     "grade": false,
     "grade_id": "cell-e47a40f306593274",
     "locked": false,
     "schema_version": 3,
     "solution": true,
     "task": false
    }
   },
   "outputs": [],
   "source": [
    "## Please uncomment all lines in this cell and replace those marked with `# YOUR CODE HERE`.\n",
    "## You can select all lines in this code cell with Ctrl+A (Windows/Linux) or Cmd+A (Mac), then press Ctrl+/ (Windows/Linux) or Cmd+/ (Mac) to uncomment.\n",
    "\n",
    "\n",
    "\n",
    "# # URL of the red wine dataset\n",
    "URI = './winequality-red.csv'\n",
    "\n",
    "# load the dataset from the URL\n",
    "red_df = pd.read_csv(URI, sep=\";\")\n",
    "\n",
    "# fill the `is_red` column with ones.\n",
    "red_df[\"is_red\"] = 1\n",
    "\n",
    "# keep only the first of duplicate items\n",
    "red_df = red_df.drop_duplicates(keep='first')\n"
   ]
  },
  {
   "cell_type": "code",
   "execution_count": 6,
   "metadata": {
    "deletable": false,
    "editable": false,
    "nbgrader": {
     "cell_type": "code",
     "checksum": "d8e0c91b0fd668b63ba74a8f2f958b59",
     "grade": true,
     "grade_id": "cell-2a75937adcc0c25b",
     "locked": true,
     "points": 1,
     "schema_version": 3,
     "solution": false,
     "task": false
    }
   },
   "outputs": [
    {
     "name": "stdout",
     "output_type": "stream",
     "text": [
      "\u001b[92m All public tests passed\n"
     ]
    }
   ],
   "source": [
    "utils.test_red_df(red_df)\n"
   ]
  },
  {
   "cell_type": "code",
   "execution_count": 7,
   "metadata": {
    "colab": {},
    "colab_type": "code",
    "id": "zsB3LUzNQpo_"
   },
   "outputs": [
    {
     "name": "stdout",
     "output_type": "stream",
     "text": [
      "9.4\n",
      "10.2\n"
     ]
    }
   ],
   "source": [
    "print(red_df.alcohol[0])\n",
    "print(red_df.alcohol[100])\n",
    "\n",
    "# EXPECTED OUTPUT\n",
    "# 9.4\n",
    "# 10.2"
   ]
  },
  {
   "cell_type": "markdown",
   "metadata": {
    "colab_type": "text",
    "id": "2G8B-NYuM6-f"
   },
   "source": [
    "### Concatenate the datasets\n",
    "\n",
    "Next, concatenate the red and white wine dataframes."
   ]
  },
  {
   "cell_type": "code",
   "execution_count": 8,
   "metadata": {
    "colab": {},
    "colab_type": "code",
    "id": "YpQrOjJbfN3m"
   },
   "outputs": [],
   "source": [
    "df = pd.concat([red_df, white_df], ignore_index=True)"
   ]
  },
  {
   "cell_type": "code",
   "execution_count": 9,
   "metadata": {
    "colab": {},
    "colab_type": "code",
    "id": "Se2dTmThQyjb"
   },
   "outputs": [
    {
     "name": "stdout",
     "output_type": "stream",
     "text": [
      "9.4\n",
      "9.5\n"
     ]
    },
    {
     "data": {
      "text/html": [
       "<div>\n",
       "<style scoped>\n",
       "    .dataframe tbody tr th:only-of-type {\n",
       "        vertical-align: middle;\n",
       "    }\n",
       "\n",
       "    .dataframe tbody tr th {\n",
       "        vertical-align: top;\n",
       "    }\n",
       "\n",
       "    .dataframe thead th {\n",
       "        text-align: right;\n",
       "    }\n",
       "</style>\n",
       "<table border=\"1\" class=\"dataframe\">\n",
       "  <thead>\n",
       "    <tr style=\"text-align: right;\">\n",
       "      <th></th>\n",
       "      <th>fixed acidity</th>\n",
       "      <th>volatile acidity</th>\n",
       "      <th>citric acid</th>\n",
       "      <th>residual sugar</th>\n",
       "      <th>chlorides</th>\n",
       "      <th>free sulfur dioxide</th>\n",
       "      <th>total sulfur dioxide</th>\n",
       "      <th>density</th>\n",
       "      <th>pH</th>\n",
       "      <th>sulphates</th>\n",
       "      <th>alcohol</th>\n",
       "      <th>quality</th>\n",
       "      <th>is_red</th>\n",
       "    </tr>\n",
       "  </thead>\n",
       "  <tbody>\n",
       "    <tr>\n",
       "      <th>0</th>\n",
       "      <td>7.4</td>\n",
       "      <td>0.70</td>\n",
       "      <td>0.00</td>\n",
       "      <td>1.9</td>\n",
       "      <td>0.076</td>\n",
       "      <td>11.0</td>\n",
       "      <td>34.0</td>\n",
       "      <td>0.9978</td>\n",
       "      <td>3.51</td>\n",
       "      <td>0.56</td>\n",
       "      <td>9.4</td>\n",
       "      <td>5</td>\n",
       "      <td>1</td>\n",
       "    </tr>\n",
       "    <tr>\n",
       "      <th>1</th>\n",
       "      <td>7.8</td>\n",
       "      <td>0.88</td>\n",
       "      <td>0.00</td>\n",
       "      <td>2.6</td>\n",
       "      <td>0.098</td>\n",
       "      <td>25.0</td>\n",
       "      <td>67.0</td>\n",
       "      <td>0.9968</td>\n",
       "      <td>3.20</td>\n",
       "      <td>0.68</td>\n",
       "      <td>9.8</td>\n",
       "      <td>5</td>\n",
       "      <td>1</td>\n",
       "    </tr>\n",
       "    <tr>\n",
       "      <th>2</th>\n",
       "      <td>7.8</td>\n",
       "      <td>0.76</td>\n",
       "      <td>0.04</td>\n",
       "      <td>2.3</td>\n",
       "      <td>0.092</td>\n",
       "      <td>15.0</td>\n",
       "      <td>54.0</td>\n",
       "      <td>0.9970</td>\n",
       "      <td>3.26</td>\n",
       "      <td>0.65</td>\n",
       "      <td>9.8</td>\n",
       "      <td>5</td>\n",
       "      <td>1</td>\n",
       "    </tr>\n",
       "    <tr>\n",
       "      <th>3</th>\n",
       "      <td>11.2</td>\n",
       "      <td>0.28</td>\n",
       "      <td>0.56</td>\n",
       "      <td>1.9</td>\n",
       "      <td>0.075</td>\n",
       "      <td>17.0</td>\n",
       "      <td>60.0</td>\n",
       "      <td>0.9980</td>\n",
       "      <td>3.16</td>\n",
       "      <td>0.58</td>\n",
       "      <td>9.8</td>\n",
       "      <td>6</td>\n",
       "      <td>1</td>\n",
       "    </tr>\n",
       "    <tr>\n",
       "      <th>4</th>\n",
       "      <td>7.4</td>\n",
       "      <td>0.66</td>\n",
       "      <td>0.00</td>\n",
       "      <td>1.8</td>\n",
       "      <td>0.075</td>\n",
       "      <td>13.0</td>\n",
       "      <td>40.0</td>\n",
       "      <td>0.9978</td>\n",
       "      <td>3.51</td>\n",
       "      <td>0.56</td>\n",
       "      <td>9.4</td>\n",
       "      <td>5</td>\n",
       "      <td>1</td>\n",
       "    </tr>\n",
       "  </tbody>\n",
       "</table>\n",
       "</div>"
      ],
      "text/plain": [
       "   fixed acidity  volatile acidity  citric acid  residual sugar  chlorides  \\\n",
       "0            7.4              0.70         0.00             1.9      0.076   \n",
       "1            7.8              0.88         0.00             2.6      0.098   \n",
       "2            7.8              0.76         0.04             2.3      0.092   \n",
       "3           11.2              0.28         0.56             1.9      0.075   \n",
       "4            7.4              0.66         0.00             1.8      0.075   \n",
       "\n",
       "   free sulfur dioxide  total sulfur dioxide  density    pH  sulphates  \\\n",
       "0                 11.0                  34.0   0.9978  3.51       0.56   \n",
       "1                 25.0                  67.0   0.9968  3.20       0.68   \n",
       "2                 15.0                  54.0   0.9970  3.26       0.65   \n",
       "3                 17.0                  60.0   0.9980  3.16       0.58   \n",
       "4                 13.0                  40.0   0.9978  3.51       0.56   \n",
       "\n",
       "   alcohol  quality  is_red  \n",
       "0      9.4        5       1  \n",
       "1      9.8        5       1  \n",
       "2      9.8        5       1  \n",
       "3      9.8        6       1  \n",
       "4      9.4        5       1  "
      ]
     },
     "execution_count": 9,
     "metadata": {},
     "output_type": "execute_result"
    }
   ],
   "source": [
    "print(df.alcohol[0])\n",
    "print(df.alcohol[100])\n",
    "df.head()\n",
    "# EXPECTED OUTPUT\n",
    "# 9.4\n",
    "# 9.5"
   ]
  },
  {
   "cell_type": "markdown",
   "metadata": {},
   "source": [
    "In a real-world scenario, you should shuffle the data. For this assignment however, **you are not** going to do that because the grader needs to test with deterministic data. If you want the code to do it **after** you've gotten your grade for this notebook, we left the commented line below for reference"
   ]
  },
  {
   "cell_type": "code",
   "execution_count": 10,
   "metadata": {
    "colab": {},
    "colab_type": "code",
    "id": "wx6y3rPpQv4k"
   },
   "outputs": [],
   "source": [
    "#df = df.iloc[np.random.permutation(len(df))]"
   ]
  },
  {
   "cell_type": "markdown",
   "metadata": {
    "colab_type": "text",
    "id": "-EqIcbg5M_n1"
   },
   "source": [
    "This will chart the quality of the wines."
   ]
  },
  {
   "cell_type": "code",
   "execution_count": 11,
   "metadata": {
    "colab": {},
    "colab_type": "code",
    "id": "IsvK0-Sgy17C"
   },
   "outputs": [
    {
     "data": {
      "image/png": "[encoded data removed]",
      "text/plain": [
       "<Figure size 432x288 with 1 Axes>"
      ]
     },
     "metadata": {
      "needs_background": "light"
     },
     "output_type": "display_data"
    }
   ],
   "source": [
    "df['quality'].hist(bins=20);"
   ]
  },
  {
   "cell_type": "markdown",
   "metadata": {
    "colab_type": "text",
    "id": "Nut1rmYLzf-p"
   },
   "source": [
    "### Imbalanced data (TODO)\n",
    "You can see from the plot above that the wine quality dataset is imbalanced. \n",
    "- Since there are very few observations with quality equal to 3, 4, 8 and 9, you can drop these observations from your dataset. \n",
    "- You can do this by removing data belonging to all classes except those > 4 and < 8."
   ]
  },
  {
   "cell_type": "code",
   "execution_count": 12,
   "metadata": {
    "colab": {},
    "colab_type": "code",
    "deletable": false,
    "id": "doH9_-gnf3sz",
    "nbgrader": {
     "cell_type": "code",
     "checksum": "d9ba9fc3a3ca02ccc567be33652b80fe",
     "grade": false,
     "grade_id": "cell-6a3e9db696f6827b",
     "locked": false,
     "schema_version": 3,
     "solution": true,
     "task": false
    }
   },
   "outputs": [],
   "source": [
    "## Please uncomment all lines in this cell and replace those marked with `# YOUR CODE HERE`.\n",
    "## You can select all lines in this code cell with Ctrl+A (Windows/Linux) or Cmd+A (Mac), then press Ctrl+/ (Windows/Linux) or Cmd+/ (Mac) to uncomment.\n",
    "\n",
    "\n",
    "\n",
    "# get data with wine quality greater than 4 and less than 8\n",
    "df = df[(df['quality'] > 4) & (df['quality'] < 8)]\n",
    "# reset index and drop the old one\n",
    "df = df.reset_index(drop=True)"
   ]
  },
  {
   "cell_type": "code",
   "execution_count": 13,
   "metadata": {
    "deletable": false,
    "editable": false,
    "nbgrader": {
     "cell_type": "code",
     "checksum": "281e1d86a4803560ed5892cd7eda4c01",
     "grade": true,
     "grade_id": "cell-aed3da719d4682c7",
     "locked": true,
     "points": 1,
     "schema_version": 3,
     "solution": false,
     "task": false
    }
   },
   "outputs": [
    {
     "name": "stdout",
     "output_type": "stream",
     "text": [
      "\u001b[92m All public tests passed\n"
     ]
    }
   ],
   "source": [
    "utils.test_df_drop(df)\n",
    "\n"
   ]
  },
  {
   "cell_type": "code",
   "execution_count": 14,
   "metadata": {
    "colab": {},
    "colab_type": "code",
    "id": "xNR1iAlMRPXO"
   },
   "outputs": [
    {
     "name": "stdout",
     "output_type": "stream",
     "text": [
      "9.4\n",
      "10.9\n"
     ]
    }
   ],
   "source": [
    "print(df.alcohol[0])\n",
    "print(df.alcohol[100])\n",
    "\n",
    "# EXPECTED OUTPUT\n",
    "# 9.4\n",
    "# 10.9"
   ]
  },
  {
   "cell_type": "markdown",
   "metadata": {
    "colab_type": "text",
    "id": "cwhuRpnVRTzG"
   },
   "source": [
    "You can plot again to see the new range of data and quality"
   ]
  },
  {
   "cell_type": "code",
   "execution_count": 15,
   "metadata": {
    "colab": {},
    "colab_type": "code",
    "id": "857ygzZiLgGg"
   },
   "outputs": [
    {
     "data": {
      "image/png": "[encoded data removed]",
      "text/plain": [
       "<Figure size 432x288 with 1 Axes>"
      ]
     },
     "metadata": {
      "needs_background": "light"
     },
     "output_type": "display_data"
    }
   ],
   "source": [
    "df['quality'].hist(bins=20);"
   ]
  },
  {
   "cell_type": "markdown",
   "metadata": {
    "colab_type": "text",
    "id": "n3k0vqSsp84t"
   },
   "source": [
    "### Train Test Split (TODO)\n",
    "\n",
    "Next, you can split the datasets into training, test and validation datasets.\n",
    "- The data frame should be split 80:20 into `train` and `test` sets.\n",
    "- The resulting `train` should then be split 80:20 into `train` and `val` sets.\n",
    "- The `train_test_split` parameter `test_size` takes a float value that ranges between 0. and 1, and represents the proportion of the dataset that is allocated to the test set.  The rest of the data is allocated to the training set."
   ]
  },
  {
   "cell_type": "code",
   "execution_count": 16,
   "metadata": {
    "colab": {},
    "colab_type": "code",
    "deletable": false,
    "id": "PAVIf2-fgRVY",
    "nbgrader": {
     "cell_type": "code",
     "checksum": "7f5738f4fb51d65adc9a8acbdf2b9970",
     "grade": false,
     "grade_id": "cell-91946cadf745206b",
     "locked": false,
     "schema_version": 3,
     "solution": true,
     "task": false
    }
   },
   "outputs": [],
   "source": [
    "## Please uncomment all lines in this cell and replace those marked with `# YOUR CODE HERE`.\n",
    "## You can select all lines in this code cell with Ctrl+A (Windows/Linux) or Cmd+A (Mac), then press Ctrl+/ (Windows/Linux) or Cmd+/ (Mac) to uncomment.\n",
    "\n",
    "\n",
    "\n",
    "## Please do not change the random_state parameter. This is needed for grading.\n",
    "# 60train,20valid,20test\n",
    "# # split df into 80:20 train and test sets\n",
    "train, test = train_test_split(df, test_size=0.2, random_state = 1)\n",
    "                               \n",
    "# split train into 80:20 train and val sets\n",
    "train, val = train_test_split(train, test_size=0.2, random_state = 1)"
   ]
  },
  {
   "cell_type": "code",
   "execution_count": 17,
   "metadata": {
    "colab": {},
    "colab_type": "code",
    "deletable": false,
    "editable": false,
    "id": "57h9LcEzRWpk",
    "nbgrader": {
     "cell_type": "code",
     "checksum": "42adbe9e66efac7c7a5f8cd73ac92f22",
     "grade": true,
     "grade_id": "cell-64b8b38cd0b965f6",
     "locked": true,
     "points": 1,
     "schema_version": 3,
     "solution": false,
     "task": false
    }
   },
   "outputs": [
    {
     "name": "stdout",
     "output_type": "stream",
     "text": [
      "\u001b[92m All public tests passed\n"
     ]
    }
   ],
   "source": [
    "utils.test_data_sizes(train.size, test.size, val.size)\n",
    "\n"
   ]
  },
  {
   "cell_type": "markdown",
   "metadata": {
    "colab_type": "text",
    "id": "RwTNu4KFqG-K"
   },
   "source": [
    "Here's where you can explore the training stats. You can pop the labels 'is_red' and 'quality' from the data as these will be used as the labels\n"
   ]
  },
  {
   "cell_type": "code",
   "execution_count": 18,
   "metadata": {
    "colab": {},
    "colab_type": "code",
    "id": "Y_afyhhHM6WQ"
   },
   "outputs": [],
   "source": [
    "train_stats = train.describe()\n",
    "train_stats.pop('is_red')\n",
    "train_stats.pop('quality')\n",
    "train_stats = train_stats.transpose()"
   ]
  },
  {
   "cell_type": "markdown",
   "metadata": {
    "colab_type": "text",
    "id": "ahvbYm4fNqSt"
   },
   "source": [
    "Explore the training stats!"
   ]
  },
  {
   "cell_type": "code",
   "execution_count": 19,
   "metadata": {
    "colab": {},
    "colab_type": "code",
    "id": "n_gAtPjZ0otF"
   },
   "outputs": [
    {
     "data": {
      "text/html": [
       "<div>\n",
       "<style scoped>\n",
       "    .dataframe tbody tr th:only-of-type {\n",
       "        vertical-align: middle;\n",
       "    }\n",
       "\n",
       "    .dataframe tbody tr th {\n",
       "        vertical-align: top;\n",
       "    }\n",
       "\n",
       "    .dataframe thead th {\n",
       "        text-align: right;\n",
       "    }\n",
       "</style>\n",
       "<table border=\"1\" class=\"dataframe\">\n",
       "  <thead>\n",
       "    <tr style=\"text-align: right;\">\n",
       "      <th></th>\n",
       "      <th>count</th>\n",
       "      <th>mean</th>\n",
       "      <th>std</th>\n",
       "      <th>min</th>\n",
       "      <th>25%</th>\n",
       "      <th>50%</th>\n",
       "      <th>75%</th>\n",
       "      <th>max</th>\n",
       "    </tr>\n",
       "  </thead>\n",
       "  <tbody>\n",
       "    <tr>\n",
       "      <th>fixed acidity</th>\n",
       "      <td>3155.0</td>\n",
       "      <td>7.221616</td>\n",
       "      <td>1.325297</td>\n",
       "      <td>3.80000</td>\n",
       "      <td>6.40000</td>\n",
       "      <td>7.00000</td>\n",
       "      <td>7.7000</td>\n",
       "      <td>15.60000</td>\n",
       "    </tr>\n",
       "    <tr>\n",
       "      <th>volatile acidity</th>\n",
       "      <td>3155.0</td>\n",
       "      <td>0.338929</td>\n",
       "      <td>0.162476</td>\n",
       "      <td>0.08000</td>\n",
       "      <td>0.23000</td>\n",
       "      <td>0.29000</td>\n",
       "      <td>0.4000</td>\n",
       "      <td>1.24000</td>\n",
       "    </tr>\n",
       "    <tr>\n",
       "      <th>citric acid</th>\n",
       "      <td>3155.0</td>\n",
       "      <td>0.321569</td>\n",
       "      <td>0.147970</td>\n",
       "      <td>0.00000</td>\n",
       "      <td>0.25000</td>\n",
       "      <td>0.31000</td>\n",
       "      <td>0.4000</td>\n",
       "      <td>1.66000</td>\n",
       "    </tr>\n",
       "    <tr>\n",
       "      <th>residual sugar</th>\n",
       "      <td>3155.0</td>\n",
       "      <td>5.155911</td>\n",
       "      <td>4.639632</td>\n",
       "      <td>0.60000</td>\n",
       "      <td>1.80000</td>\n",
       "      <td>2.80000</td>\n",
       "      <td>7.6500</td>\n",
       "      <td>65.80000</td>\n",
       "    </tr>\n",
       "    <tr>\n",
       "      <th>chlorides</th>\n",
       "      <td>3155.0</td>\n",
       "      <td>0.056976</td>\n",
       "      <td>0.036802</td>\n",
       "      <td>0.01200</td>\n",
       "      <td>0.03800</td>\n",
       "      <td>0.04700</td>\n",
       "      <td>0.0660</td>\n",
       "      <td>0.61100</td>\n",
       "    </tr>\n",
       "    <tr>\n",
       "      <th>free sulfur dioxide</th>\n",
       "      <td>3155.0</td>\n",
       "      <td>30.388590</td>\n",
       "      <td>17.236784</td>\n",
       "      <td>1.00000</td>\n",
       "      <td>17.00000</td>\n",
       "      <td>28.00000</td>\n",
       "      <td>41.0000</td>\n",
       "      <td>131.00000</td>\n",
       "    </tr>\n",
       "    <tr>\n",
       "      <th>total sulfur dioxide</th>\n",
       "      <td>3155.0</td>\n",
       "      <td>115.062282</td>\n",
       "      <td>56.706617</td>\n",
       "      <td>6.00000</td>\n",
       "      <td>75.00000</td>\n",
       "      <td>117.00000</td>\n",
       "      <td>156.0000</td>\n",
       "      <td>344.00000</td>\n",
       "    </tr>\n",
       "    <tr>\n",
       "      <th>density</th>\n",
       "      <td>3155.0</td>\n",
       "      <td>0.994633</td>\n",
       "      <td>0.003005</td>\n",
       "      <td>0.98711</td>\n",
       "      <td>0.99232</td>\n",
       "      <td>0.99481</td>\n",
       "      <td>0.9968</td>\n",
       "      <td>1.03898</td>\n",
       "    </tr>\n",
       "    <tr>\n",
       "      <th>pH</th>\n",
       "      <td>3155.0</td>\n",
       "      <td>3.223201</td>\n",
       "      <td>0.161272</td>\n",
       "      <td>2.72000</td>\n",
       "      <td>3.11000</td>\n",
       "      <td>3.21000</td>\n",
       "      <td>3.3300</td>\n",
       "      <td>4.01000</td>\n",
       "    </tr>\n",
       "    <tr>\n",
       "      <th>sulphates</th>\n",
       "      <td>3155.0</td>\n",
       "      <td>0.534051</td>\n",
       "      <td>0.149149</td>\n",
       "      <td>0.22000</td>\n",
       "      <td>0.43000</td>\n",
       "      <td>0.51000</td>\n",
       "      <td>0.6000</td>\n",
       "      <td>1.95000</td>\n",
       "    </tr>\n",
       "    <tr>\n",
       "      <th>alcohol</th>\n",
       "      <td>3155.0</td>\n",
       "      <td>10.504466</td>\n",
       "      <td>1.154654</td>\n",
       "      <td>8.50000</td>\n",
       "      <td>9.50000</td>\n",
       "      <td>10.30000</td>\n",
       "      <td>11.3000</td>\n",
       "      <td>14.00000</td>\n",
       "    </tr>\n",
       "  </tbody>\n",
       "</table>\n",
       "</div>"
      ],
      "text/plain": [
       "                       count        mean        std      min       25%  \\\n",
       "fixed acidity         3155.0    7.221616   1.325297  3.80000   6.40000   \n",
       "volatile acidity      3155.0    0.338929   0.162476  0.08000   0.23000   \n",
       "citric acid           3155.0    0.321569   0.147970  0.00000   0.25000   \n",
       "residual sugar        3155.0    5.155911   4.639632  0.60000   1.80000   \n",
       "chlorides             3155.0    0.056976   0.036802  0.01200   0.03800   \n",
       "free sulfur dioxide   3155.0   30.388590  17.236784  1.00000  17.00000   \n",
       "total sulfur dioxide  3155.0  115.062282  56.706617  6.00000  75.00000   \n",
       "density               3155.0    0.994633   0.003005  0.98711   0.99232   \n",
       "pH                    3155.0    3.223201   0.161272  2.72000   3.11000   \n",
       "sulphates             3155.0    0.534051   0.149149  0.22000   0.43000   \n",
       "alcohol               3155.0   10.504466   1.154654  8.50000   9.50000   \n",
       "\n",
       "                            50%       75%        max  \n",
       "fixed acidity           7.00000    7.7000   15.60000  \n",
       "volatile acidity        0.29000    0.4000    1.24000  \n",
       "citric acid             0.31000    0.4000    1.66000  \n",
       "residual sugar          2.80000    7.6500   65.80000  \n",
       "chlorides               0.04700    0.0660    0.61100  \n",
       "free sulfur dioxide    28.00000   41.0000  131.00000  \n",
       "total sulfur dioxide  117.00000  156.0000  344.00000  \n",
       "density                 0.99481    0.9968    1.03898  \n",
       "pH                      3.21000    3.3300    4.01000  \n",
       "sulphates               0.51000    0.6000    1.95000  \n",
       "alcohol                10.30000   11.3000   14.00000  "
      ]
     },
     "execution_count": 19,
     "metadata": {},
     "output_type": "execute_result"
    }
   ],
   "source": [
    "train_stats"
   ]
  },
  {
   "cell_type": "markdown",
   "metadata": {
    "colab_type": "text",
    "id": "bGPvt9jir_HC"
   },
   "source": [
    "### Get the labels (TODO)\n",
    "\n",
    "The features and labels are currently in the same dataframe.\n",
    "- You will want to store the label columns `is_red` and `quality` separately from the feature columns.  \n",
    "- The following function, `format_output`, gets these two columns from the dataframe (it's given to you).\n",
    "- `format_output` also formats the data into numpy arrays. \n",
    "- Please use the `format_output` and apply it to the `train`, `val` and `test` sets to get dataframes for the labels."
   ]
  },
  {
   "cell_type": "code",
   "execution_count": 20,
   "metadata": {},
   "outputs": [],
   "source": [
    "\n",
    "def format_output(data):\n",
    "    is_red = data.pop('is_red')\n",
    "    is_red = np.array(is_red)\n",
    "    quality = data.pop('quality')\n",
    "    quality = np.array(quality)\n",
    "    return (quality, is_red)"
   ]
  },
  {
   "cell_type": "code",
   "execution_count": 21,
   "metadata": {
    "colab": {},
    "colab_type": "code",
    "deletable": false,
    "id": "8L3ZZe1fQicm",
    "nbgrader": {
     "cell_type": "code",
     "checksum": "7a86809e54895a816434c48dc903f55d",
     "grade": false,
     "grade_id": "cell-5c30fa2c2a354b0f",
     "locked": false,
     "schema_version": 3,
     "solution": true,
     "task": false
    }
   },
   "outputs": [],
   "source": [
    "## Please uncomment all lines in this cell and replace those marked with `# YOUR CODE HERE`.\n",
    "## You can select all lines in this code cell with Ctrl+A (Windows/Linux) or Cmd+A (Mac), then press Ctrl+/ (Windows/Linux) or Cmd+/ (Mac) to uncomment.\n",
    "\n",
    "\n",
    "\n",
    "# # format the output of the train set\n",
    "train_Y = np.array(format_output(train))\n",
    "\n",
    "# format the output of the val set\n",
    "val_Y = np.array(format_output(val))\n",
    "    \n",
    "# format the output of the test set\n",
    "test_Y = np.array(format_output(test))"
   ]
  },
  {
   "cell_type": "code",
   "execution_count": 22,
   "metadata": {
    "deletable": false,
    "editable": false,
    "nbgrader": {
     "cell_type": "code",
     "checksum": "359cabbafaed14ec9bbc1e57a7b6f32c",
     "grade": true,
     "grade_id": "cell-4977d8befb80f56b",
     "locked": true,
     "points": 1,
     "schema_version": 3,
     "solution": false,
     "task": false
    }
   },
   "outputs": [
    {
     "name": "stdout",
     "output_type": "stream",
     "text": [
      "\u001b[92m All public tests passed\n"
     ]
    }
   ],
   "source": [
    "utils.test_format_output(df, train_Y, val_Y, test_Y)"
   ]
  },
  {
   "cell_type": "markdown",
   "metadata": {},
   "source": [
    "Notice that after you get the labels, the `train`, `val` and `test` dataframes no longer contain the label columns, and contain just the feature columns.\n",
    "- This is because you used `.pop` in the `format_output` function."
   ]
  },
  {
   "cell_type": "markdown",
   "metadata": {
    "colab_type": "text",
    "id": "hEdbrruAsN1D"
   },
   "source": [
    "### Normalize the data (TODO)\n",
    "\n",
    "Next, you can normalize the data, x, using the formula:\n",
    "$$x_{norm} = \\frac{x - \\mu}{\\sigma}$$\n",
    "- The `norm` function is defined for you.\n",
    "- Please apply the `norm` function to normalize the dataframes that contains the feature columns of `train`, `val` and `test` sets."
   ]
  },
  {
   "cell_type": "code",
   "execution_count": 23,
   "metadata": {
    "colab": {},
    "colab_type": "code",
    "id": "WWiZPAHCLjUs"
   },
   "outputs": [],
   "source": [
    "def norm(x):\n",
    "    return (x - train_stats['mean']) / train_stats['std']"
   ]
  },
  {
   "cell_type": "code",
   "execution_count": 24,
   "metadata": {
    "colab": {},
    "colab_type": "code",
    "deletable": false,
    "id": "JEaOi2I2Lk69",
    "nbgrader": {
     "cell_type": "code",
     "checksum": "6bc0cdcb563d192f271067aa3373ff32",
     "grade": false,
     "grade_id": "cell-d8416d975c371095",
     "locked": false,
     "schema_version": 3,
     "solution": true,
     "task": false
    }
   },
   "outputs": [],
   "source": [
    "## Please uncomment all lines in this cell and replace those marked with `# YOUR CODE HERE`.\n",
    "## You can select all lines in this code cell with Ctrl+A (Windows/Linux) or Cmd+A (Mac), then press Ctrl+/ (Windows/Linux) or Cmd+/ (Mac) to uncomment.\n",
    "\n",
    "\n",
    "\n",
    "# normalize the train set\n",
    "norm_train_X = norm(train)\n",
    "    \n",
    "# normalize the val set\n",
    "norm_val_X = norm(val)\n",
    "    \n",
    "# normalize the test set\n",
    "norm_test_X = norm(test)"
   ]
  },
  {
   "cell_type": "code",
   "execution_count": 25,
   "metadata": {
    "deletable": false,
    "editable": false,
    "nbgrader": {
     "cell_type": "code",
     "checksum": "4f567db45bf40191601780379cc100b8",
     "grade": true,
     "grade_id": "cell-97fad979d157529b",
     "locked": true,
     "points": 1,
     "schema_version": 3,
     "solution": false,
     "task": false
    }
   },
   "outputs": [
    {
     "name": "stdout",
     "output_type": "stream",
     "text": [
      "\u001b[92m All public tests passed\n"
     ]
    }
   ],
   "source": [
    "utils.test_norm(norm_train_X, norm_val_X, norm_test_X, train, val, test)\n"
   ]
  },
  {
   "cell_type": "markdown",
   "metadata": {
    "colab_type": "text",
    "id": "hzykDwQhsaPO"
   },
   "source": [
    "## Define the Model (TODO)\n",
    "\n",
    "Define the model using the functional API. The base model will be 2 `Dense` layers of 128 neurons each, and have the `'relu'` activation.\n",
    "- Check out the documentation for [tf.keras.layers.Dense](https://www.tensorflow.org/api_docs/python/tf/keras/layers/Dense)"
   ]
  },
  {
   "cell_type": "code",
   "execution_count": 26,
   "metadata": {
    "colab": {},
    "colab_type": "code",
    "deletable": false,
    "id": "Rhcns3oTFkM6",
    "nbgrader": {
     "cell_type": "code",
     "checksum": "74b031247e569526552bf13a034a1c07",
     "grade": false,
     "grade_id": "cell-73fceedad1fe351c",
     "locked": false,
     "schema_version": 3,
     "solution": true,
     "task": false
    }
   },
   "outputs": [],
   "source": [
    "## Please uncomment all lines in this cell and replace those marked with `# YOUR CODE HERE`.\n",
    "## You can select all lines in this code cell with Ctrl+A (Windows/Linux) or Cmd+A (Mac), then press Ctrl+/ (Windows/Linux) or Cmd+/ (Mac) to uncomment.\n",
    "\n",
    "\n",
    "\n",
    "def base_model(inputs):\n",
    "    \n",
    "    # connect a Dense layer with 128 neurons and a relu activation\n",
    "    x = Dense(128,activation='relu')(inputs)\n",
    "    \n",
    "    # connect another Dense layer with 128 neurons and a relu activation\n",
    "    x = Dense(128,activation='relu')(x)\n",
    "    return x\n",
    "  "
   ]
  },
  {
   "cell_type": "code",
   "execution_count": 27,
   "metadata": {
    "deletable": false,
    "editable": false,
    "nbgrader": {
     "cell_type": "code",
     "checksum": "9255924b3def80f679616e4c851a43e1",
     "grade": true,
     "grade_id": "cell-54f742a133353d75",
     "locked": true,
     "points": 1,
     "schema_version": 3,
     "solution": false,
     "task": false
    }
   },
   "outputs": [
    {
     "name": "stdout",
     "output_type": "stream",
     "text": [
      "\u001b[92m All public tests passed\n"
     ]
    }
   ],
   "source": [
    "utils.test_base_model(base_model)"
   ]
  },
  {
   "cell_type": "markdown",
   "metadata": {
    "colab_type": "text",
    "id": "xem_fcVws6Kz"
   },
   "source": [
    "# Define output layers of the model (TODO)\n",
    "\n",
    "You will add output layers to the base model. \n",
    "- The model will need two outputs.\n",
    "\n",
    "One output layer will predict wine quality, which is a numeric value.\n",
    "- Define a `Dense` layer with 1 neuron.\n",
    "- Since this is a regression output, the activation can be left as its default value `None`.\n",
    "\n",
    "The other output layer will predict the wine type, which is either red `1` or not red `0` (white).\n",
    "- Define a `Dense` layer with 1 neuron.\n",
    "- Since there are two possible categories, you can use a sigmoid activation for binary classification.\n",
    "\n",
    "Define the `Model`\n",
    "- Define the `Model` object, and set the following parameters:\n",
    "  - `inputs`: pass in the inputs to the model as a list.\n",
    "  - `outputs`: pass in a list of the outputs that you just defined: wine quality, then wine type.\n",
    "  - **Note**: please list the wine quality before wine type in the outputs, as this will affect the calculated loss if you choose the other order."
   ]
  },
  {
   "cell_type": "code",
   "execution_count": 28,
   "metadata": {
    "colab": {},
    "colab_type": "code",
    "deletable": false,
    "id": "n5UGF8PMVLPt",
    "nbgrader": {
     "cell_type": "code",
     "checksum": "76d35b90d20cdcbb22986cd8211057de",
     "grade": false,
     "grade_id": "cell-19e285f482f021fb",
     "locked": false,
     "schema_version": 3,
     "solution": true,
     "task": false
    }
   },
   "outputs": [],
   "source": [
    "## Please uncomment all lines in this cell and replace those marked with `# YOUR CODE HERE`.\n",
    "## You can select all lines in this code cell with Ctrl+A (Windows/Linux) or Cmd+A (Mac), then press Ctrl+/ (Windows/Linux) or Cmd+/ (Mac) to uncomment.\n",
    "\n",
    "\n",
    "\n",
    "def final_model(inputs):\n",
    "    \n",
    "    # get the base model\n",
    "    x = base_model(inputs)\n",
    "\n",
    "    # connect the output Dense layer for regression\n",
    "    wine_quality = Dense(units='1', name='wine_quality')(x)\n",
    "\n",
    "    # connect the output Dense layer for classification. this will use a sigmoid activation.\n",
    "    wine_type = Dense(units='1', activation='sigmoid', name='wine_type')(x)\n",
    "\n",
    "    # define the model using the input and output layers\n",
    "    model = Model(inputs=inputs, outputs=[wine_quality,wine_type])\n",
    "\n",
    "    return model"
   ]
  },
  {
   "cell_type": "code",
   "execution_count": 29,
   "metadata": {
    "deletable": false,
    "editable": false,
    "nbgrader": {
     "cell_type": "code",
     "checksum": "89cbf89d8ab5e2e59ecf7f63f517520a",
     "grade": true,
     "grade_id": "cell-40d050f855c817d1",
     "locked": true,
     "points": 1,
     "schema_version": 3,
     "solution": false,
     "task": false
    }
   },
   "outputs": [
    {
     "name": "stdout",
     "output_type": "stream",
     "text": [
      "\u001b[92m All public tests passed\n"
     ]
    }
   ],
   "source": [
    "utils.test_final_model(final_model)"
   ]
  },
  {
   "cell_type": "markdown",
   "metadata": {
    "colab_type": "text",
    "id": "5R0BMTsltZyu"
   },
   "source": [
    "## Compiling the Model\n",
    "\n",
    "Next, compile the model. When setting the loss parameter of `model.compile`, you're setting the loss for each of the two outputs (wine quality and wine type).\n",
    "\n",
    "To set more than one loss, use a dictionary of key-value pairs.\n",
    "- You can look at the docs for the losses [here](https://www.tensorflow.org/api_docs/python/tf/keras/losses#functions).\n",
    "    - **Note**: For the desired spelling, please look at the \"Functions\" section of the documentation and not the \"classes\" section on that same page.\n",
    "- wine_type: Since you will be performing binary classification on wine type, you should use the binary crossentropy loss function for it.  Please pass this in as a string.  \n",
    "  - **Hint**, this should be all lowercase.  In the documentation, you'll see this under the \"Functions\" section, not the \"Classes\" section.\n",
    "- wine_quality: since this is a regression output, use the mean squared error.  Please pass it in as a string, all lowercase.\n",
    "  - **Hint**: You may notice that there are two aliases for mean squared error.  Please use the shorter name.\n",
    "\n",
    "\n",
    "You will also set the metric for each of the two outputs.  Again, to set metrics for two or more outputs, use a dictionary with key value pairs.\n",
    "- The metrics documentation is linked [here](https://www.tensorflow.org/api_docs/python/tf/keras/metrics).\n",
    "- For the wine type, please set it to accuracy as a string, all lowercase.\n",
    "- For wine quality, please use the root mean squared error.  Instead of a string, you'll set it to an instance of the class [RootMeanSquaredError](https://www.tensorflow.org/api_docs/python/tf/keras/metrics/RootMeanSquaredError), which belongs to the tf.keras.metrics module.\n",
    "\n",
    "**Note**: If you see the error message \n",
    ">Exception: wine quality loss function is incorrect.\n",
    "\n",
    "- Please also check your other losses and metrics, as the error may be caused by the other three key-value pairs and not the wine quality loss."
   ]
  },
  {
   "cell_type": "code",
   "execution_count": 30,
   "metadata": {
    "colab": {},
    "colab_type": "code",
    "deletable": false,
    "id": "LK11duUbUjmh",
    "nbgrader": {
     "cell_type": "code",
     "checksum": "22f45067ca69eb2ccadb43874dbcc27b",
     "grade": false,
     "grade_id": "cell-81afdc4dcca51d5e",
     "locked": false,
     "schema_version": 3,
     "solution": true,
     "task": false
    }
   },
   "outputs": [],
   "source": [
    "## Please uncomment all lines in this cell and replace those marked with `# YOUR CODE HERE`.\n",
    "## You can select all lines in this code cell with Ctrl+A (Windows/Linux) or Cmd+A (Mac), then press Ctrl+/ (Windows/Linux) or Cmd+/ (Mac) to uncomment.\n",
    "\n",
    "\n",
    "\n",
    "inputs = tf.keras.layers.Input(shape=(11,))\n",
    "rms = tf.keras.optimizers.RMSprop(lr=0.0001)\n",
    "model = final_model(inputs)\n",
    "\n",
    "model.compile(optimizer=rms, \n",
    "              loss = {'wine_type' : 'binary_crossentropy',\n",
    "                      'wine_quality' : 'mse'\n",
    "                     },\n",
    "              metrics = {'wine_type' : 'accuracy',\n",
    "                         'wine_quality': tf.keras.metrics.RootMeanSquaredError(),\n",
    "                       }\n",
    "             )\n"
   ]
  },
  {
   "cell_type": "code",
   "execution_count": 31,
   "metadata": {
    "deletable": false,
    "editable": false,
    "nbgrader": {
     "cell_type": "code",
     "checksum": "88e02238ea5e456ff65e835cc8158054",
     "grade": true,
     "grade_id": "cell-2eeeba02391c4632",
     "locked": true,
     "points": 1,
     "schema_version": 3,
     "solution": false,
     "task": false
    }
   },
   "outputs": [
    {
     "name": "stdout",
     "output_type": "stream",
     "text": [
      "\u001b[92m All public tests passed\n"
     ]
    }
   ],
   "source": [
    "utils.test_model_compile(model)"
   ]
  },
  {
   "cell_type": "markdown",
   "metadata": {
    "colab_type": "text",
    "id": "90MpAMpWuKm-"
   },
   "source": [
    "## Training the Model\n",
    "\n",
    "Fit the model to the training inputs and outputs. \n",
    "- Check the documentation for [model.fit](https://www.tensorflow.org/api_docs/python/tf/keras/Model#fit).\n",
    "- Remember to use the normalized training set as inputs. \n",
    "- For the validation data, please use the normalized validation set."
   ]
  },
  {
   "cell_type": "code",
   "execution_count": 39,
   "metadata": {
    "colab": {},
    "colab_type": "code",
    "deletable": false,
    "id": "_eiZkle4XwiY",
    "nbgrader": {
     "cell_type": "code",
     "checksum": "2ca7664be03bfd6fd3651ae44d17b793",
     "grade": false,
     "grade_id": "cell-0bb56262896f6680",
     "locked": false,
     "schema_version": 3,
     "solution": true,
     "task": false
    }
   },
   "outputs": [
    {
     "name": "stdout",
     "output_type": "stream",
     "text": [
      "Train on 3155 samples, validate on 789 samples\n",
      "Epoch 1/180\n",
      "3155/3155 [==============================] - 1s 368us/sample - loss: 27.3104 - wine_quality_loss: 26.5934 - wine_type_loss: 0.6962 - wine_quality_root_mean_squared_error: 5.1589 - wine_type_accuracy: 0.5116 - val_loss: 20.2220 - val_wine_quality_loss: 19.5383 - val_wine_type_loss: 0.6967 - val_wine_quality_root_mean_squared_error: 4.4188 - val_wine_type_accuracy: 0.5057\n",
      "Epoch 2/180\n",
      "3155/3155 [==============================] - 0s 107us/sample - loss: 14.3007 - wine_quality_loss: 13.6145 - wine_type_loss: 0.6748 - wine_quality_root_mean_squared_error: 3.6913 - wine_type_accuracy: 0.5674 - val_loss: 9.1796 - val_wine_quality_loss: 8.5528 - val_wine_type_loss: 0.6582 - val_wine_quality_root_mean_squared_error: 2.9192 - val_wine_type_accuracy: 0.6401\n",
      "Epoch 3/180\n",
      "3155/3155 [==============================] - 0s 97us/sample - loss: 5.8545 - wine_quality_loss: 5.2353 - wine_type_loss: 0.6089 - wine_quality_root_mean_squared_error: 2.2902 - wine_type_accuracy: 0.7597 - val_loss: 3.5954 - val_wine_quality_loss: 3.0670 - val_wine_type_loss: 0.5663 - val_wine_quality_root_mean_squared_error: 1.7406 - val_wine_type_accuracy: 0.7541\n",
      "Epoch 4/180\n",
      "3155/3155 [==============================] - 0s 95us/sample - loss: 2.8827 - wine_quality_loss: 2.3815 - wine_type_loss: 0.4987 - wine_quality_root_mean_squared_error: 1.5440 - wine_type_accuracy: 0.7952 - val_loss: 2.4887 - val_wine_quality_loss: 2.0665 - val_wine_type_loss: 0.4463 - val_wine_quality_root_mean_squared_error: 1.4293 - val_wine_type_accuracy: 0.8023\n",
      "Epoch 5/180\n",
      "3155/3155 [==============================] - 0s 92us/sample - loss: 2.2689 - wine_quality_loss: 1.8834 - wine_type_loss: 0.3852 - wine_quality_root_mean_squared_error: 1.3725 - wine_type_accuracy: 0.8532 - val_loss: 2.1686 - val_wine_quality_loss: 1.8375 - val_wine_type_loss: 0.3454 - val_wine_quality_root_mean_squared_error: 1.3504 - val_wine_type_accuracy: 0.8859\n",
      "Epoch 6/180\n",
      "3155/3155 [==============================] - 0s 77us/sample - loss: 2.0022 - wine_quality_loss: 1.7004 - wine_type_loss: 0.3003 - wine_quality_root_mean_squared_error: 1.3045 - wine_type_accuracy: 0.9230 - val_loss: 1.9400 - val_wine_quality_loss: 1.6788 - val_wine_type_loss: 0.2711 - val_wine_quality_root_mean_squared_error: 1.2920 - val_wine_type_accuracy: 0.9480\n",
      "Epoch 7/180\n",
      "3155/3155 [==============================] - 0s 93us/sample - loss: 1.7985 - wine_quality_loss: 1.5636 - wine_type_loss: 0.2338 - wine_quality_root_mean_squared_error: 1.2508 - wine_type_accuracy: 0.9664 - val_loss: 1.7521 - val_wine_quality_loss: 1.5461 - val_wine_type_loss: 0.2124 - val_wine_quality_root_mean_squared_error: 1.2410 - val_wine_type_accuracy: 0.9785\n",
      "Epoch 8/180\n",
      "3155/3155 [==============================] - 0s 90us/sample - loss: 1.6347 - wine_quality_loss: 1.4497 - wine_type_loss: 0.1843 - wine_quality_root_mean_squared_error: 1.2042 - wine_type_accuracy: 0.9788 - val_loss: 1.5972 - val_wine_quality_loss: 1.4335 - val_wine_type_loss: 0.1681 - val_wine_quality_root_mean_squared_error: 1.1955 - val_wine_type_accuracy: 0.9873\n",
      "Epoch 9/180\n",
      "3155/3155 [==============================] - 0s 93us/sample - loss: 1.5019 - wine_quality_loss: 1.3520 - wine_type_loss: 0.1477 - wine_quality_root_mean_squared_error: 1.1636 - wine_type_accuracy: 0.9867 - val_loss: 1.4760 - val_wine_quality_loss: 1.3423 - val_wine_type_loss: 0.1363 - val_wine_quality_root_mean_squared_error: 1.1575 - val_wine_type_accuracy: 0.9886\n",
      "Epoch 10/180\n",
      "3155/3155 [==============================] - 0s 88us/sample - loss: 1.3901 - wine_quality_loss: 1.2676 - wine_type_loss: 0.1212 - wine_quality_root_mean_squared_error: 1.1264 - wine_type_accuracy: 0.9876 - val_loss: 1.3599 - val_wine_quality_loss: 1.2493 - val_wine_type_loss: 0.1124 - val_wine_quality_root_mean_squared_error: 1.1169 - val_wine_type_accuracy: 0.9886\n",
      "Epoch 11/180\n",
      "3155/3155 [==============================] - 0s 81us/sample - loss: 1.2927 - wine_quality_loss: 1.1907 - wine_type_loss: 0.1015 - wine_quality_root_mean_squared_error: 1.0913 - wine_type_accuracy: 0.9880 - val_loss: 1.2822 - val_wine_quality_loss: 1.1877 - val_wine_type_loss: 0.0952 - val_wine_quality_root_mean_squared_error: 1.0895 - val_wine_type_accuracy: 0.9899\n",
      "Epoch 12/180\n",
      "3155/3155 [==============================] - 0s 92us/sample - loss: 1.2098 - wine_quality_loss: 1.1208 - wine_type_loss: 0.0872 - wine_quality_root_mean_squared_error: 1.0595 - wine_type_accuracy: 0.9892 - val_loss: 1.1915 - val_wine_quality_loss: 1.1098 - val_wine_type_loss: 0.0820 - val_wine_quality_root_mean_squared_error: 1.0532 - val_wine_type_accuracy: 0.9899\n",
      "Epoch 13/180\n",
      "3155/3155 [==============================] - 0s 94us/sample - loss: 1.1404 - wine_quality_loss: 1.0719 - wine_type_loss: 0.0768 - wine_quality_root_mean_squared_error: 1.0315 - wine_type_accuracy: 0.9895 - val_loss: 1.1220 - val_wine_quality_loss: 1.0494 - val_wine_type_loss: 0.0722 - val_wine_quality_root_mean_squared_error: 1.0245 - val_wine_type_accuracy: 0.9911\n",
      "Epoch 14/180\n",
      "3155/3155 [==============================] - 0s 91us/sample - loss: 1.0788 - wine_quality_loss: 1.0095 - wine_type_loss: 0.0683 - wine_quality_root_mean_squared_error: 1.0051 - wine_type_accuracy: 0.9908 - val_loss: 1.0580 - val_wine_quality_loss: 0.9920 - val_wine_type_loss: 0.0651 - val_wine_quality_root_mean_squared_error: 0.9963 - val_wine_type_accuracy: 0.9924\n",
      "Epoch 15/180\n",
      "3155/3155 [==============================] - 0s 93us/sample - loss: 1.0179 - wine_quality_loss: 0.9555 - wine_type_loss: 0.0622 - wine_quality_root_mean_squared_error: 0.9776 - wine_type_accuracy: 0.9908 - val_loss: 1.0014 - val_wine_quality_loss: 0.9409 - val_wine_type_loss: 0.0590 - val_wine_quality_root_mean_squared_error: 0.9706 - val_wine_type_accuracy: 0.9911\n",
      "Epoch 16/180\n",
      "3155/3155 [==============================] - 0s 92us/sample - loss: 0.9660 - wine_quality_loss: 0.9074 - wine_type_loss: 0.0583 - wine_quality_root_mean_squared_error: 0.9534 - wine_type_accuracy: 0.9918 - val_loss: 0.9538 - val_wine_quality_loss: 0.8977 - val_wine_type_loss: 0.0546 - val_wine_quality_root_mean_squared_error: 0.9481 - val_wine_type_accuracy: 0.9911\n",
      "Epoch 17/180\n",
      "3155/3155 [==============================] - 0s 93us/sample - loss: 0.9186 - wine_quality_loss: 0.8655 - wine_type_loss: 0.0531 - wine_quality_root_mean_squared_error: 0.9302 - wine_type_accuracy: 0.9921 - val_loss: 0.8955 - val_wine_quality_loss: 0.8430 - val_wine_type_loss: 0.0508 - val_wine_quality_root_mean_squared_error: 0.9189 - val_wine_type_accuracy: 0.9911\n",
      "Epoch 18/180\n",
      "3155/3155 [==============================] - 0s 75us/sample - loss: 0.8697 - wine_quality_loss: 0.8184 - wine_type_loss: 0.0499 - wine_quality_root_mean_squared_error: 0.9054 - wine_type_accuracy: 0.9924 - val_loss: 0.8584 - val_wine_quality_loss: 0.8089 - val_wine_type_loss: 0.0479 - val_wine_quality_root_mean_squared_error: 0.9001 - val_wine_type_accuracy: 0.9911\n",
      "Epoch 19/180\n",
      "3155/3155 [==============================] - 0s 93us/sample - loss: 0.8275 - wine_quality_loss: 0.7807 - wine_type_loss: 0.0470 - wine_quality_root_mean_squared_error: 0.8834 - wine_type_accuracy: 0.9924 - val_loss: 0.8083 - val_wine_quality_loss: 0.7611 - val_wine_type_loss: 0.0453 - val_wine_quality_root_mean_squared_error: 0.8733 - val_wine_type_accuracy: 0.9937\n",
      "Epoch 20/180\n",
      "3155/3155 [==============================] - 0s 93us/sample - loss: 0.7900 - wine_quality_loss: 0.7448 - wine_type_loss: 0.0447 - wine_quality_root_mean_squared_error: 0.8632 - wine_type_accuracy: 0.9927 - val_loss: 0.7775 - val_wine_quality_loss: 0.7321 - val_wine_type_loss: 0.0431 - val_wine_quality_root_mean_squared_error: 0.8568 - val_wine_type_accuracy: 0.9924\n",
      "Epoch 21/180\n",
      "3155/3155 [==============================] - 0s 93us/sample - loss: 0.7534 - wine_quality_loss: 0.7090 - wine_type_loss: 0.0428 - wine_quality_root_mean_squared_error: 0.8429 - wine_type_accuracy: 0.9930 - val_loss: 0.7300 - val_wine_quality_loss: 0.6864 - val_wine_type_loss: 0.0415 - val_wine_quality_root_mean_squared_error: 0.8296 - val_wine_type_accuracy: 0.9937\n",
      "Epoch 22/180\n",
      "3155/3155 [==============================] - 0s 92us/sample - loss: 0.7209 - wine_quality_loss: 0.6788 - wine_type_loss: 0.0411 - wine_quality_root_mean_squared_error: 0.8244 - wine_type_accuracy: 0.9930 - val_loss: 0.7097 - val_wine_quality_loss: 0.6670 - val_wine_type_loss: 0.0400 - val_wine_quality_root_mean_squared_error: 0.8181 - val_wine_type_accuracy: 0.9937\n",
      "Epoch 23/180\n",
      "3155/3155 [==============================] - 0s 92us/sample - loss: 0.6910 - wine_quality_loss: 0.6509 - wine_type_loss: 0.0399 - wine_quality_root_mean_squared_error: 0.8070 - wine_type_accuracy: 0.9933 - val_loss: 0.6728 - val_wine_quality_loss: 0.6320 - val_wine_type_loss: 0.0386 - val_wine_quality_root_mean_squared_error: 0.7961 - val_wine_type_accuracy: 0.9949\n",
      "Epoch 24/180\n",
      "3155/3155 [==============================] - 0s 75us/sample - loss: 0.6630 - wine_quality_loss: 0.6253 - wine_type_loss: 0.0385 - wine_quality_root_mean_squared_error: 0.7903 - wine_type_accuracy: 0.9933 - val_loss: 0.6513 - val_wine_quality_loss: 0.6114 - val_wine_type_loss: 0.0377 - val_wine_quality_root_mean_squared_error: 0.7831 - val_wine_type_accuracy: 0.9949\n",
      "Epoch 25/180\n",
      "3155/3155 [==============================] - 0s 78us/sample - loss: 0.6339 - wine_quality_loss: 0.5970 - wine_type_loss: 0.0373 - wine_quality_root_mean_squared_error: 0.7723 - wine_type_accuracy: 0.9933 - val_loss: 0.6295 - val_wine_quality_loss: 0.5903 - val_wine_type_loss: 0.0368 - val_wine_quality_root_mean_squared_error: 0.7697 - val_wine_type_accuracy: 0.9949\n",
      "Epoch 26/180\n",
      "3155/3155 [==============================] - 0s 92us/sample - loss: 0.6130 - wine_quality_loss: 0.5781 - wine_type_loss: 0.0363 - wine_quality_root_mean_squared_error: 0.7593 - wine_type_accuracy: 0.9933 - val_loss: 0.5921 - val_wine_quality_loss: 0.5542 - val_wine_type_loss: 0.0359 - val_wine_quality_root_mean_squared_error: 0.7455 - val_wine_type_accuracy: 0.9937\n",
      "Epoch 27/180\n",
      "3155/3155 [==============================] - 0s 93us/sample - loss: 0.5898 - wine_quality_loss: 0.5580 - wine_type_loss: 0.0355 - wine_quality_root_mean_squared_error: 0.7444 - wine_type_accuracy: 0.9933 - val_loss: 0.5784 - val_wine_quality_loss: 0.5409 - val_wine_type_loss: 0.0353 - val_wine_quality_root_mean_squared_error: 0.7367 - val_wine_type_accuracy: 0.9949\n",
      "Epoch 28/180\n",
      "3155/3155 [==============================] - 0s 89us/sample - loss: 0.5693 - wine_quality_loss: 0.5344 - wine_type_loss: 0.0349 - wine_quality_root_mean_squared_error: 0.7310 - wine_type_accuracy: 0.9940 - val_loss: 0.5565 - val_wine_quality_loss: 0.5198 - val_wine_type_loss: 0.0348 - val_wine_quality_root_mean_squared_error: 0.7221 - val_wine_type_accuracy: 0.9949\n",
      "Epoch 29/180\n",
      "3155/3155 [==============================] - 0s 74us/sample - loss: 0.5487 - wine_quality_loss: 0.5149 - wine_type_loss: 0.0341 - wine_quality_root_mean_squared_error: 0.7173 - wine_type_accuracy: 0.9940 - val_loss: 0.5302 - val_wine_quality_loss: 0.4941 - val_wine_type_loss: 0.0342 - val_wine_quality_root_mean_squared_error: 0.7040 - val_wine_type_accuracy: 0.9949\n",
      "Epoch 30/180\n",
      "3155/3155 [==============================] - 0s 92us/sample - loss: 0.5294 - wine_quality_loss: 0.4950 - wine_type_loss: 0.0335 - wine_quality_root_mean_squared_error: 0.7041 - wine_type_accuracy: 0.9943 - val_loss: 0.5190 - val_wine_quality_loss: 0.4833 - val_wine_type_loss: 0.0337 - val_wine_quality_root_mean_squared_error: 0.6964 - val_wine_type_accuracy: 0.9949\n",
      "Epoch 31/180\n",
      "3155/3155 [==============================] - 0s 92us/sample - loss: 0.5128 - wine_quality_loss: 0.4822 - wine_type_loss: 0.0329 - wine_quality_root_mean_squared_error: 0.6927 - wine_type_accuracy: 0.9943 - val_loss: 0.5000 - val_wine_quality_loss: 0.4649 - val_wine_type_loss: 0.0333 - val_wine_quality_root_mean_squared_error: 0.6830 - val_wine_type_accuracy: 0.9949\n",
      "Epoch 32/180\n",
      "3155/3155 [==============================] - 0s 91us/sample - loss: 0.4988 - wine_quality_loss: 0.4665 - wine_type_loss: 0.0324 - wine_quality_root_mean_squared_error: 0.6828 - wine_type_accuracy: 0.9946 - val_loss: 0.4898 - val_wine_quality_loss: 0.4548 - val_wine_type_loss: 0.0329 - val_wine_quality_root_mean_squared_error: 0.6757 - val_wine_type_accuracy: 0.9949\n",
      "Epoch 33/180\n",
      "3155/3155 [==============================] - 0s 91us/sample - loss: 0.4823 - wine_quality_loss: 0.4501 - wine_type_loss: 0.0320 - wine_quality_root_mean_squared_error: 0.6710 - wine_type_accuracy: 0.9946 - val_loss: 0.4715 - val_wine_quality_loss: 0.4371 - val_wine_type_loss: 0.0327 - val_wine_quality_root_mean_squared_error: 0.6622 - val_wine_type_accuracy: 0.9949\n",
      "Epoch 34/180\n",
      "3155/3155 [==============================] - 0s 76us/sample - loss: 0.4676 - wine_quality_loss: 0.4357 - wine_type_loss: 0.0317 - wine_quality_root_mean_squared_error: 0.6603 - wine_type_accuracy: 0.9946 - val_loss: 0.4678 - val_wine_quality_loss: 0.4339 - val_wine_type_loss: 0.0323 - val_wine_quality_root_mean_squared_error: 0.6596 - val_wine_type_accuracy: 0.9949\n",
      "Epoch 35/180\n",
      "3155/3155 [==============================] - 0s 92us/sample - loss: 0.4560 - wine_quality_loss: 0.4251 - wine_type_loss: 0.0311 - wine_quality_root_mean_squared_error: 0.6518 - wine_type_accuracy: 0.9946 - val_loss: 0.4544 - val_wine_quality_loss: 0.4200 - val_wine_type_loss: 0.0322 - val_wine_quality_root_mean_squared_error: 0.6494 - val_wine_type_accuracy: 0.9949\n",
      "Epoch 36/180\n",
      "3155/3155 [==============================] - 0s 92us/sample - loss: 0.4441 - wine_quality_loss: 0.4131 - wine_type_loss: 0.0307 - wine_quality_root_mean_squared_error: 0.6429 - wine_type_accuracy: 0.9946 - val_loss: 0.4358 - val_wine_quality_loss: 0.4024 - val_wine_type_loss: 0.0322 - val_wine_quality_root_mean_squared_error: 0.6350 - val_wine_type_accuracy: 0.9937\n",
      "Epoch 37/180\n",
      "3155/3155 [==============================] - 0s 93us/sample - loss: 0.4348 - wine_quality_loss: 0.4043 - wine_type_loss: 0.0305 - wine_quality_root_mean_squared_error: 0.6358 - wine_type_accuracy: 0.9946 - val_loss: 0.4288 - val_wine_quality_loss: 0.3956 - val_wine_type_loss: 0.0318 - val_wine_quality_root_mean_squared_error: 0.6298 - val_wine_type_accuracy: 0.9949\n",
      "Epoch 38/180\n",
      "3155/3155 [==============================] - 0s 88us/sample - loss: 0.4252 - wine_quality_loss: 0.3958 - wine_type_loss: 0.0302 - wine_quality_root_mean_squared_error: 0.6285 - wine_type_accuracy: 0.9946 - val_loss: 0.4206 - val_wine_quality_loss: 0.3876 - val_wine_type_loss: 0.0318 - val_wine_quality_root_mean_squared_error: 0.6232 - val_wine_type_accuracy: 0.9937\n",
      "Epoch 39/180\n",
      "3155/3155 [==============================] - 0s 77us/sample - loss: 0.4161 - wine_quality_loss: 0.3862 - wine_type_loss: 0.0299 - wine_quality_root_mean_squared_error: 0.6215 - wine_type_accuracy: 0.9946 - val_loss: 0.4275 - val_wine_quality_loss: 0.3944 - val_wine_type_loss: 0.0315 - val_wine_quality_root_mean_squared_error: 0.6290 - val_wine_type_accuracy: 0.9949\n",
      "Epoch 40/180\n",
      "3155/3155 [==============================] - 0s 91us/sample - loss: 0.4083 - wine_quality_loss: 0.3790 - wine_type_loss: 0.0300 - wine_quality_root_mean_squared_error: 0.6154 - wine_type_accuracy: 0.9946 - val_loss: 0.4040 - val_wine_quality_loss: 0.3713 - val_wine_type_loss: 0.0313 - val_wine_quality_root_mean_squared_error: 0.6102 - val_wine_type_accuracy: 0.9949\n",
      "Epoch 41/180\n",
      "3155/3155 [==============================] - 0s 94us/sample - loss: 0.4017 - wine_quality_loss: 0.3726 - wine_type_loss: 0.0292 - wine_quality_root_mean_squared_error: 0.6102 - wine_type_accuracy: 0.9946 - val_loss: 0.4082 - val_wine_quality_loss: 0.3753 - val_wine_type_loss: 0.0311 - val_wine_quality_root_mean_squared_error: 0.6138 - val_wine_type_accuracy: 0.9949\n",
      "Epoch 42/180\n",
      "3155/3155 [==============================] - 0s 92us/sample - loss: 0.3957 - wine_quality_loss: 0.3666 - wine_type_loss: 0.0289 - wine_quality_root_mean_squared_error: 0.6056 - wine_type_accuracy: 0.9946 - val_loss: 0.3988 - val_wine_quality_loss: 0.3663 - val_wine_type_loss: 0.0311 - val_wine_quality_root_mean_squared_error: 0.6061 - val_wine_type_accuracy: 0.9937\n",
      "Epoch 43/180\n",
      "3155/3155 [==============================] - 0s 90us/sample - loss: 0.3906 - wine_quality_loss: 0.3622 - wine_type_loss: 0.0287 - wine_quality_root_mean_squared_error: 0.6015 - wine_type_accuracy: 0.9946 - val_loss: 0.3888 - val_wine_quality_loss: 0.3563 - val_wine_type_loss: 0.0310 - val_wine_quality_root_mean_squared_error: 0.5979 - val_wine_type_accuracy: 0.9937\n",
      "Epoch 44/180\n",
      "3155/3155 [==============================] - 0s 76us/sample - loss: 0.3846 - wine_quality_loss: 0.3563 - wine_type_loss: 0.0285 - wine_quality_root_mean_squared_error: 0.5967 - wine_type_accuracy: 0.9946 - val_loss: 0.3833 - val_wine_quality_loss: 0.3514 - val_wine_type_loss: 0.0306 - val_wine_quality_root_mean_squared_error: 0.5936 - val_wine_type_accuracy: 0.9949\n",
      "Epoch 45/180\n",
      "3155/3155 [==============================] - 0s 93us/sample - loss: 0.3791 - wine_quality_loss: 0.3501 - wine_type_loss: 0.0282 - wine_quality_root_mean_squared_error: 0.5923 - wine_type_accuracy: 0.9946 - val_loss: 0.3804 - val_wine_quality_loss: 0.3486 - val_wine_type_loss: 0.0306 - val_wine_quality_root_mean_squared_error: 0.5912 - val_wine_type_accuracy: 0.9949\n",
      "Epoch 46/180\n",
      "3155/3155 [==============================] - 0s 90us/sample - loss: 0.3749 - wine_quality_loss: 0.3467 - wine_type_loss: 0.0279 - wine_quality_root_mean_squared_error: 0.5890 - wine_type_accuracy: 0.9946 - val_loss: 0.3789 - val_wine_quality_loss: 0.3467 - val_wine_type_loss: 0.0305 - val_wine_quality_root_mean_squared_error: 0.5899 - val_wine_type_accuracy: 0.9949\n",
      "Epoch 47/180\n",
      "3155/3155 [==============================] - 0s 92us/sample - loss: 0.3691 - wine_quality_loss: 0.3414 - wine_type_loss: 0.0278 - wine_quality_root_mean_squared_error: 0.5841 - wine_type_accuracy: 0.9949 - val_loss: 0.3839 - val_wine_quality_loss: 0.3522 - val_wine_type_loss: 0.0304 - val_wine_quality_root_mean_squared_error: 0.5942 - val_wine_type_accuracy: 0.9949\n",
      "Epoch 48/180\n",
      "3155/3155 [==============================] - 0s 75us/sample - loss: 0.3668 - wine_quality_loss: 0.3385 - wine_type_loss: 0.0276 - wine_quality_root_mean_squared_error: 0.5823 - wine_type_accuracy: 0.9949 - val_loss: 0.3781 - val_wine_quality_loss: 0.3462 - val_wine_type_loss: 0.0303 - val_wine_quality_root_mean_squared_error: 0.5894 - val_wine_type_accuracy: 0.9949\n",
      "Epoch 49/180\n",
      "3155/3155 [==============================] - 0s 92us/sample - loss: 0.3639 - wine_quality_loss: 0.3366 - wine_type_loss: 0.0274 - wine_quality_root_mean_squared_error: 0.5800 - wine_type_accuracy: 0.9949 - val_loss: 0.3679 - val_wine_quality_loss: 0.3365 - val_wine_type_loss: 0.0301 - val_wine_quality_root_mean_squared_error: 0.5809 - val_wine_type_accuracy: 0.9949\n",
      "Epoch 50/180\n",
      "3155/3155 [==============================] - 0s 93us/sample - loss: 0.3600 - wine_quality_loss: 0.3329 - wine_type_loss: 0.0271 - wine_quality_root_mean_squared_error: 0.5768 - wine_type_accuracy: 0.9949 - val_loss: 0.3739 - val_wine_quality_loss: 0.3422 - val_wine_type_loss: 0.0301 - val_wine_quality_root_mean_squared_error: 0.5861 - val_wine_type_accuracy: 0.9949\n",
      "Epoch 51/180\n",
      "3155/3155 [==============================] - 0s 91us/sample - loss: 0.3575 - wine_quality_loss: 0.3307 - wine_type_loss: 0.0271 - wine_quality_root_mean_squared_error: 0.5748 - wine_type_accuracy: 0.9949 - val_loss: 0.3637 - val_wine_quality_loss: 0.3324 - val_wine_type_loss: 0.0301 - val_wine_quality_root_mean_squared_error: 0.5772 - val_wine_type_accuracy: 0.9949\n",
      "Epoch 52/180\n",
      "3155/3155 [==============================] - 0s 92us/sample - loss: 0.3556 - wine_quality_loss: 0.3285 - wine_type_loss: 0.0269 - wine_quality_root_mean_squared_error: 0.5733 - wine_type_accuracy: 0.9949 - val_loss: 0.3641 - val_wine_quality_loss: 0.3328 - val_wine_type_loss: 0.0299 - val_wine_quality_root_mean_squared_error: 0.5777 - val_wine_type_accuracy: 0.9949\n",
      "Epoch 53/180\n",
      "3155/3155 [==============================] - 0s 76us/sample - loss: 0.3531 - wine_quality_loss: 0.3265 - wine_type_loss: 0.0267 - wine_quality_root_mean_squared_error: 0.5712 - wine_type_accuracy: 0.9949 - val_loss: 0.3632 - val_wine_quality_loss: 0.3320 - val_wine_type_loss: 0.0299 - val_wine_quality_root_mean_squared_error: 0.5771 - val_wine_type_accuracy: 0.9949\n",
      "Epoch 54/180\n",
      "3155/3155 [==============================] - 0s 92us/sample - loss: 0.3505 - wine_quality_loss: 0.3237 - wine_type_loss: 0.0265 - wine_quality_root_mean_squared_error: 0.5691 - wine_type_accuracy: 0.9949 - val_loss: 0.3697 - val_wine_quality_loss: 0.3382 - val_wine_type_loss: 0.0298 - val_wine_quality_root_mean_squared_error: 0.5827 - val_wine_type_accuracy: 0.9949\n",
      "Epoch 55/180\n",
      "3155/3155 [==============================] - 0s 92us/sample - loss: 0.3492 - wine_quality_loss: 0.3230 - wine_type_loss: 0.0264 - wine_quality_root_mean_squared_error: 0.5682 - wine_type_accuracy: 0.9952 - val_loss: 0.3604 - val_wine_quality_loss: 0.3295 - val_wine_type_loss: 0.0297 - val_wine_quality_root_mean_squared_error: 0.5748 - val_wine_type_accuracy: 0.9949\n",
      "Epoch 56/180\n",
      "3155/3155 [==============================] - 0s 91us/sample - loss: 0.3461 - wine_quality_loss: 0.3198 - wine_type_loss: 0.0262 - wine_quality_root_mean_squared_error: 0.5656 - wine_type_accuracy: 0.9949 - val_loss: 0.3603 - val_wine_quality_loss: 0.3293 - val_wine_type_loss: 0.0296 - val_wine_quality_root_mean_squared_error: 0.5748 - val_wine_type_accuracy: 0.9949\n",
      "Epoch 57/180\n",
      "3155/3155 [==============================] - 0s 90us/sample - loss: 0.3432 - wine_quality_loss: 0.3173 - wine_type_loss: 0.0260 - wine_quality_root_mean_squared_error: 0.5631 - wine_type_accuracy: 0.9956 - val_loss: 0.3577 - val_wine_quality_loss: 0.3268 - val_wine_type_loss: 0.0297 - val_wine_quality_root_mean_squared_error: 0.5724 - val_wine_type_accuracy: 0.9949\n",
      "Epoch 58/180\n",
      "3155/3155 [==============================] - 0s 76us/sample - loss: 0.3423 - wine_quality_loss: 0.3164 - wine_type_loss: 0.0259 - wine_quality_root_mean_squared_error: 0.5625 - wine_type_accuracy: 0.9952 - val_loss: 0.3601 - val_wine_quality_loss: 0.3293 - val_wine_type_loss: 0.0296 - val_wine_quality_root_mean_squared_error: 0.5745 - val_wine_type_accuracy: 0.9949\n",
      "Epoch 59/180\n",
      "3155/3155 [==============================] - 0s 90us/sample - loss: 0.3401 - wine_quality_loss: 0.3138 - wine_type_loss: 0.0258 - wine_quality_root_mean_squared_error: 0.5606 - wine_type_accuracy: 0.9952 - val_loss: 0.3572 - val_wine_quality_loss: 0.3264 - val_wine_type_loss: 0.0294 - val_wine_quality_root_mean_squared_error: 0.5722 - val_wine_type_accuracy: 0.9949\n",
      "Epoch 60/180\n",
      "3155/3155 [==============================] - 0s 94us/sample - loss: 0.3390 - wine_quality_loss: 0.3129 - wine_type_loss: 0.0256 - wine_quality_root_mean_squared_error: 0.5598 - wine_type_accuracy: 0.9956 - val_loss: 0.3533 - val_wine_quality_loss: 0.3225 - val_wine_type_loss: 0.0295 - val_wine_quality_root_mean_squared_error: 0.5687 - val_wine_type_accuracy: 0.9949\n",
      "Epoch 61/180\n",
      "3155/3155 [==============================] - 0s 92us/sample - loss: 0.3376 - wine_quality_loss: 0.3122 - wine_type_loss: 0.0254 - wine_quality_root_mean_squared_error: 0.5587 - wine_type_accuracy: 0.9952 - val_loss: 0.3518 - val_wine_quality_loss: 0.3211 - val_wine_type_loss: 0.0295 - val_wine_quality_root_mean_squared_error: 0.5674 - val_wine_type_accuracy: 0.9949\n",
      "Epoch 62/180\n",
      "3155/3155 [==============================] - 0s 90us/sample - loss: 0.3364 - wine_quality_loss: 0.3108 - wine_type_loss: 0.0253 - wine_quality_root_mean_squared_error: 0.5577 - wine_type_accuracy: 0.9952 - val_loss: 0.3530 - val_wine_quality_loss: 0.3224 - val_wine_type_loss: 0.0293 - val_wine_quality_root_mean_squared_error: 0.5686 - val_wine_type_accuracy: 0.9949\n",
      "Epoch 63/180\n",
      "3155/3155 [==============================] - 0s 75us/sample - loss: 0.3345 - wine_quality_loss: 0.3096 - wine_type_loss: 0.0251 - wine_quality_root_mean_squared_error: 0.5561 - wine_type_accuracy: 0.9956 - val_loss: 0.3561 - val_wine_quality_loss: 0.3255 - val_wine_type_loss: 0.0293 - val_wine_quality_root_mean_squared_error: 0.5713 - val_wine_type_accuracy: 0.9949\n",
      "Epoch 64/180\n",
      "3155/3155 [==============================] - 0s 92us/sample - loss: 0.3339 - wine_quality_loss: 0.3083 - wine_type_loss: 0.0249 - wine_quality_root_mean_squared_error: 0.5558 - wine_type_accuracy: 0.9956 - val_loss: 0.3494 - val_wine_quality_loss: 0.3191 - val_wine_type_loss: 0.0291 - val_wine_quality_root_mean_squared_error: 0.5656 - val_wine_type_accuracy: 0.9949\n",
      "Epoch 65/180\n",
      "3155/3155 [==============================] - 0s 92us/sample - loss: 0.3317 - wine_quality_loss: 0.3065 - wine_type_loss: 0.0251 - wine_quality_root_mean_squared_error: 0.5539 - wine_type_accuracy: 0.9956 - val_loss: 0.3624 - val_wine_quality_loss: 0.3324 - val_wine_type_loss: 0.0290 - val_wine_quality_root_mean_squared_error: 0.5770 - val_wine_type_accuracy: 0.9949\n",
      "Epoch 66/180\n",
      "3155/3155 [==============================] - 0s 92us/sample - loss: 0.3316 - wine_quality_loss: 0.3064 - wine_type_loss: 0.0247 - wine_quality_root_mean_squared_error: 0.5539 - wine_type_accuracy: 0.9956 - val_loss: 0.3504 - val_wine_quality_loss: 0.3203 - val_wine_type_loss: 0.0290 - val_wine_quality_root_mean_squared_error: 0.5666 - val_wine_type_accuracy: 0.9949\n",
      "Epoch 67/180\n",
      "3155/3155 [==============================] - 0s 89us/sample - loss: 0.3299 - wine_quality_loss: 0.3056 - wine_type_loss: 0.0246 - wine_quality_root_mean_squared_error: 0.5525 - wine_type_accuracy: 0.9956 - val_loss: 0.3510 - val_wine_quality_loss: 0.3207 - val_wine_type_loss: 0.0290 - val_wine_quality_root_mean_squared_error: 0.5671 - val_wine_type_accuracy: 0.9949\n",
      "Epoch 68/180\n",
      "3155/3155 [==============================] - 0s 78us/sample - loss: 0.3285 - wine_quality_loss: 0.3038 - wine_type_loss: 0.0246 - wine_quality_root_mean_squared_error: 0.5513 - wine_type_accuracy: 0.9959 - val_loss: 0.3539 - val_wine_quality_loss: 0.3237 - val_wine_type_loss: 0.0290 - val_wine_quality_root_mean_squared_error: 0.5698 - val_wine_type_accuracy: 0.9949\n",
      "Epoch 69/180\n",
      "3155/3155 [==============================] - 0s 92us/sample - loss: 0.3272 - wine_quality_loss: 0.3026 - wine_type_loss: 0.0243 - wine_quality_root_mean_squared_error: 0.5503 - wine_type_accuracy: 0.9959 - val_loss: 0.3549 - val_wine_quality_loss: 0.3245 - val_wine_type_loss: 0.0290 - val_wine_quality_root_mean_squared_error: 0.5706 - val_wine_type_accuracy: 0.9949\n",
      "Epoch 70/180\n",
      "3155/3155 [==============================] - 0s 92us/sample - loss: 0.3262 - wine_quality_loss: 0.3021 - wine_type_loss: 0.0242 - wine_quality_root_mean_squared_error: 0.5494 - wine_type_accuracy: 0.9956 - val_loss: 0.3518 - val_wine_quality_loss: 0.3221 - val_wine_type_loss: 0.0289 - val_wine_quality_root_mean_squared_error: 0.5679 - val_wine_type_accuracy: 0.9949\n",
      "Epoch 71/180\n",
      "3155/3155 [==============================] - 0s 92us/sample - loss: 0.3250 - wine_quality_loss: 0.3007 - wine_type_loss: 0.0241 - wine_quality_root_mean_squared_error: 0.5485 - wine_type_accuracy: 0.9959 - val_loss: 0.3505 - val_wine_quality_loss: 0.3207 - val_wine_type_loss: 0.0288 - val_wine_quality_root_mean_squared_error: 0.5669 - val_wine_type_accuracy: 0.9949\n",
      "Epoch 72/180\n",
      "3155/3155 [==============================] - 0s 93us/sample - loss: 0.3250 - wine_quality_loss: 0.3013 - wine_type_loss: 0.0239 - wine_quality_root_mean_squared_error: 0.5487 - wine_type_accuracy: 0.9956 - val_loss: 0.3578 - val_wine_quality_loss: 0.3277 - val_wine_type_loss: 0.0288 - val_wine_quality_root_mean_squared_error: 0.5733 - val_wine_type_accuracy: 0.9949\n",
      "Epoch 73/180\n",
      "3155/3155 [==============================] - 0s 90us/sample - loss: 0.3238 - wine_quality_loss: 0.2991 - wine_type_loss: 0.0266 - wine_quality_root_mean_squared_error: 0.5476 - wine_type_accuracy: 0.9959 - val_loss: 0.3500 - val_wine_quality_loss: 0.3200 - val_wine_type_loss: 0.0288 - val_wine_quality_root_mean_squared_error: 0.5665 - val_wine_type_accuracy: 0.9949\n",
      "Epoch 74/180\n",
      "3155/3155 [==============================] - 0s 76us/sample - loss: 0.3224 - wine_quality_loss: 0.2986 - wine_type_loss: 0.0237 - wine_quality_root_mean_squared_error: 0.5465 - wine_type_accuracy: 0.9959 - val_loss: 0.3489 - val_wine_quality_loss: 0.3192 - val_wine_type_loss: 0.0287 - val_wine_quality_root_mean_squared_error: 0.5655 - val_wine_type_accuracy: 0.9949\n",
      "Epoch 75/180\n",
      "3155/3155 [==============================] - 0s 93us/sample - loss: 0.3220 - wine_quality_loss: 0.2979 - wine_type_loss: 0.0236 - wine_quality_root_mean_squared_error: 0.5462 - wine_type_accuracy: 0.9959 - val_loss: 0.3552 - val_wine_quality_loss: 0.3254 - val_wine_type_loss: 0.0286 - val_wine_quality_root_mean_squared_error: 0.5712 - val_wine_type_accuracy: 0.9949\n",
      "Epoch 76/180\n",
      "3155/3155 [==============================] - 0s 93us/sample - loss: 0.3206 - wine_quality_loss: 0.2969 - wine_type_loss: 0.0235 - wine_quality_root_mean_squared_error: 0.5451 - wine_type_accuracy: 0.9959 - val_loss: 0.3479 - val_wine_quality_loss: 0.3183 - val_wine_type_loss: 0.0286 - val_wine_quality_root_mean_squared_error: 0.5647 - val_wine_type_accuracy: 0.9949\n",
      "Epoch 77/180\n",
      "3155/3155 [==============================] - 0s 92us/sample - loss: 0.3197 - wine_quality_loss: 0.2962 - wine_type_loss: 0.0233 - wine_quality_root_mean_squared_error: 0.5444 - wine_type_accuracy: 0.9962 - val_loss: 0.3533 - val_wine_quality_loss: 0.3238 - val_wine_type_loss: 0.0287 - val_wine_quality_root_mean_squared_error: 0.5694 - val_wine_type_accuracy: 0.9949\n",
      "Epoch 78/180\n",
      "3155/3155 [==============================] - 0s 89us/sample - loss: 0.3193 - wine_quality_loss: 0.2960 - wine_type_loss: 0.0232 - wine_quality_root_mean_squared_error: 0.5441 - wine_type_accuracy: 0.9962 - val_loss: 0.3488 - val_wine_quality_loss: 0.3192 - val_wine_type_loss: 0.0285 - val_wine_quality_root_mean_squared_error: 0.5656 - val_wine_type_accuracy: 0.9949\n",
      "Epoch 79/180\n",
      "3155/3155 [==============================] - 0s 77us/sample - loss: 0.3181 - wine_quality_loss: 0.2946 - wine_type_loss: 0.0231 - wine_quality_root_mean_squared_error: 0.5431 - wine_type_accuracy: 0.9959 - val_loss: 0.3492 - val_wine_quality_loss: 0.3202 - val_wine_type_loss: 0.0285 - val_wine_quality_root_mean_squared_error: 0.5660 - val_wine_type_accuracy: 0.9949\n",
      "Epoch 80/180\n",
      "3155/3155 [==============================] - 0s 94us/sample - loss: 0.3173 - wine_quality_loss: 0.2947 - wine_type_loss: 0.0230 - wine_quality_root_mean_squared_error: 0.5424 - wine_type_accuracy: 0.9959 - val_loss: 0.3479 - val_wine_quality_loss: 0.3182 - val_wine_type_loss: 0.0286 - val_wine_quality_root_mean_squared_error: 0.5648 - val_wine_type_accuracy: 0.9949\n",
      "Epoch 81/180\n",
      "3155/3155 [==============================] - 0s 92us/sample - loss: 0.3161 - wine_quality_loss: 0.2931 - wine_type_loss: 0.0229 - wine_quality_root_mean_squared_error: 0.5415 - wine_type_accuracy: 0.9962 - val_loss: 0.3515 - val_wine_quality_loss: 0.3220 - val_wine_type_loss: 0.0285 - val_wine_quality_root_mean_squared_error: 0.5680 - val_wine_type_accuracy: 0.9949\n",
      "Epoch 82/180\n",
      "3155/3155 [==============================] - 0s 92us/sample - loss: 0.3161 - wine_quality_loss: 0.2939 - wine_type_loss: 0.0228 - wine_quality_root_mean_squared_error: 0.5415 - wine_type_accuracy: 0.9962 - val_loss: 0.3486 - val_wine_quality_loss: 0.3190 - val_wine_type_loss: 0.0284 - val_wine_quality_root_mean_squared_error: 0.5656 - val_wine_type_accuracy: 0.9949\n",
      "Epoch 83/180\n",
      "3155/3155 [==============================] - 0s 87us/sample - loss: 0.3158 - wine_quality_loss: 0.2932 - wine_type_loss: 0.0226 - wine_quality_root_mean_squared_error: 0.5414 - wine_type_accuracy: 0.9959 - val_loss: 0.3492 - val_wine_quality_loss: 0.3197 - val_wine_type_loss: 0.0284 - val_wine_quality_root_mean_squared_error: 0.5661 - val_wine_type_accuracy: 0.9949\n",
      "Epoch 84/180\n",
      "3155/3155 [==============================] - 0s 75us/sample - loss: 0.3152 - wine_quality_loss: 0.2926 - wine_type_loss: 0.0226 - wine_quality_root_mean_squared_error: 0.5409 - wine_type_accuracy: 0.9962 - val_loss: 0.3433 - val_wine_quality_loss: 0.3140 - val_wine_type_loss: 0.0284 - val_wine_quality_root_mean_squared_error: 0.5609 - val_wine_type_accuracy: 0.9949\n",
      "Epoch 85/180\n",
      "3155/3155 [==============================] - 0s 89us/sample - loss: 0.3137 - wine_quality_loss: 0.2920 - wine_type_loss: 0.0225 - wine_quality_root_mean_squared_error: 0.5396 - wine_type_accuracy: 0.9959 - val_loss: 0.3511 - val_wine_quality_loss: 0.3220 - val_wine_type_loss: 0.0282 - val_wine_quality_root_mean_squared_error: 0.5680 - val_wine_type_accuracy: 0.9949\n",
      "Epoch 86/180\n",
      "3155/3155 [==============================] - 0s 90us/sample - loss: 0.3126 - wine_quality_loss: 0.2907 - wine_type_loss: 0.0239 - wine_quality_root_mean_squared_error: 0.5387 - wine_type_accuracy: 0.9965 - val_loss: 0.3456 - val_wine_quality_loss: 0.3163 - val_wine_type_loss: 0.0282 - val_wine_quality_root_mean_squared_error: 0.5630 - val_wine_type_accuracy: 0.9949\n",
      "Epoch 87/180\n",
      "3155/3155 [==============================] - 0s 75us/sample - loss: 0.3117 - wine_quality_loss: 0.2900 - wine_type_loss: 0.0223 - wine_quality_root_mean_squared_error: 0.5379 - wine_type_accuracy: 0.9968 - val_loss: 0.3497 - val_wine_quality_loss: 0.3202 - val_wine_type_loss: 0.0282 - val_wine_quality_root_mean_squared_error: 0.5667 - val_wine_type_accuracy: 0.9949\n",
      "Epoch 88/180\n",
      "3155/3155 [==============================] - 0s 90us/sample - loss: 0.3114 - wine_quality_loss: 0.2895 - wine_type_loss: 0.0221 - wine_quality_root_mean_squared_error: 0.5378 - wine_type_accuracy: 0.9968 - val_loss: 0.3474 - val_wine_quality_loss: 0.3184 - val_wine_type_loss: 0.0281 - val_wine_quality_root_mean_squared_error: 0.5647 - val_wine_type_accuracy: 0.9949\n",
      "Epoch 89/180\n",
      "3155/3155 [==============================] - 0s 88us/sample - loss: 0.3118 - wine_quality_loss: 0.2895 - wine_type_loss: 0.0220 - wine_quality_root_mean_squared_error: 0.5383 - wine_type_accuracy: 0.9965 - val_loss: 0.3430 - val_wine_quality_loss: 0.3137 - val_wine_type_loss: 0.0281 - val_wine_quality_root_mean_squared_error: 0.5608 - val_wine_type_accuracy: 0.9949\n",
      "Epoch 90/180\n",
      "3155/3155 [==============================] - 0s 74us/sample - loss: 0.3095 - wine_quality_loss: 0.2871 - wine_type_loss: 0.0220 - wine_quality_root_mean_squared_error: 0.5362 - wine_type_accuracy: 0.9968 - val_loss: 0.3458 - val_wine_quality_loss: 0.3167 - val_wine_type_loss: 0.0281 - val_wine_quality_root_mean_squared_error: 0.5634 - val_wine_type_accuracy: 0.9949\n",
      "Epoch 91/180\n",
      "3155/3155 [==============================] - 0s 88us/sample - loss: 0.3100 - wine_quality_loss: 0.2882 - wine_type_loss: 0.0219 - wine_quality_root_mean_squared_error: 0.5367 - wine_type_accuracy: 0.9965 - val_loss: 0.3433 - val_wine_quality_loss: 0.3143 - val_wine_type_loss: 0.0281 - val_wine_quality_root_mean_squared_error: 0.5611 - val_wine_type_accuracy: 0.9949\n",
      "Epoch 92/180\n",
      "3155/3155 [==============================] - 0s 91us/sample - loss: 0.3086 - wine_quality_loss: 0.2865 - wine_type_loss: 0.0218 - wine_quality_root_mean_squared_error: 0.5355 - wine_type_accuracy: 0.9968 - val_loss: 0.3483 - val_wine_quality_loss: 0.3192 - val_wine_type_loss: 0.0280 - val_wine_quality_root_mean_squared_error: 0.5656 - val_wine_type_accuracy: 0.9949\n",
      "Epoch 93/180\n",
      "3155/3155 [==============================] - 0s 75us/sample - loss: 0.3089 - wine_quality_loss: 0.2874 - wine_type_loss: 0.0217 - wine_quality_root_mean_squared_error: 0.5359 - wine_type_accuracy: 0.9968 - val_loss: 0.3443 - val_wine_quality_loss: 0.3155 - val_wine_type_loss: 0.0280 - val_wine_quality_root_mean_squared_error: 0.5621 - val_wine_type_accuracy: 0.9949\n",
      "Epoch 94/180\n",
      "3155/3155 [==============================] - 0s 92us/sample - loss: 0.3081 - wine_quality_loss: 0.2868 - wine_type_loss: 0.0215 - wine_quality_root_mean_squared_error: 0.5353 - wine_type_accuracy: 0.9968 - val_loss: 0.3397 - val_wine_quality_loss: 0.3109 - val_wine_type_loss: 0.0279 - val_wine_quality_root_mean_squared_error: 0.5581 - val_wine_type_accuracy: 0.9949\n",
      "Epoch 95/180\n",
      "3155/3155 [==============================] - 0s 89us/sample - loss: 0.3070 - wine_quality_loss: 0.2860 - wine_type_loss: 0.0216 - wine_quality_root_mean_squared_error: 0.5343 - wine_type_accuracy: 0.9968 - val_loss: 0.3442 - val_wine_quality_loss: 0.3152 - val_wine_type_loss: 0.0278 - val_wine_quality_root_mean_squared_error: 0.5622 - val_wine_type_accuracy: 0.9949\n",
      "Epoch 96/180\n",
      "3155/3155 [==============================] - 0s 75us/sample - loss: 0.3071 - wine_quality_loss: 0.2859 - wine_type_loss: 0.0214 - wine_quality_root_mean_squared_error: 0.5344 - wine_type_accuracy: 0.9968 - val_loss: 0.3430 - val_wine_quality_loss: 0.3140 - val_wine_type_loss: 0.0278 - val_wine_quality_root_mean_squared_error: 0.5611 - val_wine_type_accuracy: 0.9949\n",
      "Epoch 97/180\n",
      "3155/3155 [==============================] - 0s 88us/sample - loss: 0.3050 - wine_quality_loss: 0.2839 - wine_type_loss: 0.0213 - wine_quality_root_mean_squared_error: 0.5326 - wine_type_accuracy: 0.9968 - val_loss: 0.3419 - val_wine_quality_loss: 0.3129 - val_wine_type_loss: 0.0279 - val_wine_quality_root_mean_squared_error: 0.5600 - val_wine_type_accuracy: 0.9949\n",
      "Epoch 98/180\n",
      "3155/3155 [==============================] - 0s 89us/sample - loss: 0.3049 - wine_quality_loss: 0.2837 - wine_type_loss: 0.0212 - wine_quality_root_mean_squared_error: 0.5325 - wine_type_accuracy: 0.9968 - val_loss: 0.3464 - val_wine_quality_loss: 0.3176 - val_wine_type_loss: 0.0279 - val_wine_quality_root_mean_squared_error: 0.5640 - val_wine_type_accuracy: 0.9949\n",
      "Epoch 99/180\n",
      "3155/3155 [==============================] - 0s 74us/sample - loss: 0.3044 - wine_quality_loss: 0.2832 - wine_type_loss: 0.0211 - wine_quality_root_mean_squared_error: 0.5322 - wine_type_accuracy: 0.9968 - val_loss: 0.3466 - val_wine_quality_loss: 0.3181 - val_wine_type_loss: 0.0276 - val_wine_quality_root_mean_squared_error: 0.5645 - val_wine_type_accuracy: 0.9949\n",
      "Epoch 100/180\n",
      "3155/3155 [==============================] - 0s 88us/sample - loss: 0.3053 - wine_quality_loss: 0.2841 - wine_type_loss: 0.0210 - wine_quality_root_mean_squared_error: 0.5331 - wine_type_accuracy: 0.9968 - val_loss: 0.3462 - val_wine_quality_loss: 0.3173 - val_wine_type_loss: 0.0278 - val_wine_quality_root_mean_squared_error: 0.5640 - val_wine_type_accuracy: 0.9949\n",
      "Epoch 101/180\n",
      "3155/3155 [==============================] - 0s 90us/sample - loss: 0.3029 - wine_quality_loss: 0.2822 - wine_type_loss: 0.0209 - wine_quality_root_mean_squared_error: 0.5309 - wine_type_accuracy: 0.9968 - val_loss: 0.3446 - val_wine_quality_loss: 0.3156 - val_wine_type_loss: 0.0278 - val_wine_quality_root_mean_squared_error: 0.5625 - val_wine_type_accuracy: 0.9949\n",
      "Epoch 102/180\n",
      "3155/3155 [==============================] - 0s 72us/sample - loss: 0.3028 - wine_quality_loss: 0.2816 - wine_type_loss: 0.0209 - wine_quality_root_mean_squared_error: 0.5309 - wine_type_accuracy: 0.9968 - val_loss: 0.3404 - val_wine_quality_loss: 0.3117 - val_wine_type_loss: 0.0276 - val_wine_quality_root_mean_squared_error: 0.5589 - val_wine_type_accuracy: 0.9949\n",
      "Epoch 103/180\n",
      "3155/3155 [==============================] - 0s 92us/sample - loss: 0.3032 - wine_quality_loss: 0.2825 - wine_type_loss: 0.0209 - wine_quality_root_mean_squared_error: 0.5313 - wine_type_accuracy: 0.9968 - val_loss: 0.3402 - val_wine_quality_loss: 0.3119 - val_wine_type_loss: 0.0275 - val_wine_quality_root_mean_squared_error: 0.5588 - val_wine_type_accuracy: 0.9949\n",
      "Epoch 104/180\n",
      "3155/3155 [==============================] - 0s 88us/sample - loss: 0.3025 - wine_quality_loss: 0.2818 - wine_type_loss: 0.0207 - wine_quality_root_mean_squared_error: 0.5308 - wine_type_accuracy: 0.9968 - val_loss: 0.3448 - val_wine_quality_loss: 0.3165 - val_wine_type_loss: 0.0275 - val_wine_quality_root_mean_squared_error: 0.5630 - val_wine_type_accuracy: 0.9949\n",
      "Epoch 105/180\n",
      "3155/3155 [==============================] - 0s 73us/sample - loss: 0.3022 - wine_quality_loss: 0.2815 - wine_type_loss: 0.0216 - wine_quality_root_mean_squared_error: 0.5305 - wine_type_accuracy: 0.9968 - val_loss: 0.3459 - val_wine_quality_loss: 0.3173 - val_wine_type_loss: 0.0275 - val_wine_quality_root_mean_squared_error: 0.5640 - val_wine_type_accuracy: 0.9949\n",
      "Epoch 106/180\n",
      "3155/3155 [==============================] - 0s 89us/sample - loss: 0.3016 - wine_quality_loss: 0.2806 - wine_type_loss: 0.0205 - wine_quality_root_mean_squared_error: 0.5300 - wine_type_accuracy: 0.9968 - val_loss: 0.3420 - val_wine_quality_loss: 0.3134 - val_wine_type_loss: 0.0275 - val_wine_quality_root_mean_squared_error: 0.5605 - val_wine_type_accuracy: 0.9949\n",
      "Epoch 107/180\n",
      "3155/3155 [==============================] - 0s 88us/sample - loss: 0.3006 - wine_quality_loss: 0.2798 - wine_type_loss: 0.0205 - wine_quality_root_mean_squared_error: 0.5292 - wine_type_accuracy: 0.9968 - val_loss: 0.3425 - val_wine_quality_loss: 0.3141 - val_wine_type_loss: 0.0274 - val_wine_quality_root_mean_squared_error: 0.5611 - val_wine_type_accuracy: 0.9949\n",
      "Epoch 108/180\n",
      "3155/3155 [==============================] - 0s 73us/sample - loss: 0.2999 - wine_quality_loss: 0.2792 - wine_type_loss: 0.0204 - wine_quality_root_mean_squared_error: 0.5286 - wine_type_accuracy: 0.9968 - val_loss: 0.3488 - val_wine_quality_loss: 0.3205 - val_wine_type_loss: 0.0274 - val_wine_quality_root_mean_squared_error: 0.5666 - val_wine_type_accuracy: 0.9949\n",
      "Epoch 109/180\n",
      "3155/3155 [==============================] - 0s 89us/sample - loss: 0.2987 - wine_quality_loss: 0.2781 - wine_type_loss: 0.0206 - wine_quality_root_mean_squared_error: 0.5276 - wine_type_accuracy: 0.9968 - val_loss: 0.3423 - val_wine_quality_loss: 0.3140 - val_wine_type_loss: 0.0275 - val_wine_quality_root_mean_squared_error: 0.5608 - val_wine_type_accuracy: 0.9949\n",
      "Epoch 110/180\n",
      "3155/3155 [==============================] - 0s 88us/sample - loss: 0.3001 - wine_quality_loss: 0.2793 - wine_type_loss: 0.0203 - wine_quality_root_mean_squared_error: 0.5289 - wine_type_accuracy: 0.9968 - val_loss: 0.3436 - val_wine_quality_loss: 0.3155 - val_wine_type_loss: 0.0274 - val_wine_quality_root_mean_squared_error: 0.5620 - val_wine_type_accuracy: 0.9949\n",
      "Epoch 111/180\n",
      "3155/3155 [==============================] - 0s 75us/sample - loss: 0.2980 - wine_quality_loss: 0.2781 - wine_type_loss: 0.0203 - wine_quality_root_mean_squared_error: 0.5270 - wine_type_accuracy: 0.9968 - val_loss: 0.3479 - val_wine_quality_loss: 0.3198 - val_wine_type_loss: 0.0274 - val_wine_quality_root_mean_squared_error: 0.5659 - val_wine_type_accuracy: 0.9949\n",
      "Epoch 112/180\n",
      "3155/3155 [==============================] - 0s 91us/sample - loss: 0.2983 - wine_quality_loss: 0.2778 - wine_type_loss: 0.0201 - wine_quality_root_mean_squared_error: 0.5274 - wine_type_accuracy: 0.9968 - val_loss: 0.3386 - val_wine_quality_loss: 0.3105 - val_wine_type_loss: 0.0273 - val_wine_quality_root_mean_squared_error: 0.5576 - val_wine_type_accuracy: 0.9949\n",
      "Epoch 113/180\n",
      "3155/3155 [==============================] - 0s 87us/sample - loss: 0.2967 - wine_quality_loss: 0.2768 - wine_type_loss: 0.0201 - wine_quality_root_mean_squared_error: 0.5260 - wine_type_accuracy: 0.9968 - val_loss: 0.3493 - val_wine_quality_loss: 0.3210 - val_wine_type_loss: 0.0273 - val_wine_quality_root_mean_squared_error: 0.5672 - val_wine_type_accuracy: 0.9949\n",
      "Epoch 114/180\n",
      "3155/3155 [==============================] - 0s 75us/sample - loss: 0.2970 - wine_quality_loss: 0.2776 - wine_type_loss: 0.0199 - wine_quality_root_mean_squared_error: 0.5263 - wine_type_accuracy: 0.9968 - val_loss: 0.3523 - val_wine_quality_loss: 0.3245 - val_wine_type_loss: 0.0272 - val_wine_quality_root_mean_squared_error: 0.5698 - val_wine_type_accuracy: 0.9949\n",
      "Epoch 115/180\n",
      "3155/3155 [==============================] - 0s 89us/sample - loss: 0.2969 - wine_quality_loss: 0.2769 - wine_type_loss: 0.0198 - wine_quality_root_mean_squared_error: 0.5263 - wine_type_accuracy: 0.9968 - val_loss: 0.3451 - val_wine_quality_loss: 0.3173 - val_wine_type_loss: 0.0272 - val_wine_quality_root_mean_squared_error: 0.5635 - val_wine_type_accuracy: 0.9949\n",
      "Epoch 116/180\n",
      "3155/3155 [==============================] - 0s 73us/sample - loss: 0.2974 - wine_quality_loss: 0.2774 - wine_type_loss: 0.0199 - wine_quality_root_mean_squared_error: 0.5268 - wine_type_accuracy: 0.9968 - val_loss: 0.3429 - val_wine_quality_loss: 0.3149 - val_wine_type_loss: 0.0272 - val_wine_quality_root_mean_squared_error: 0.5616 - val_wine_type_accuracy: 0.9949\n",
      "Epoch 117/180\n",
      "3155/3155 [==============================] - 0s 89us/sample - loss: 0.2956 - wine_quality_loss: 0.2760 - wine_type_loss: 0.0197 - wine_quality_root_mean_squared_error: 0.5252 - wine_type_accuracy: 0.9968 - val_loss: 0.3461 - val_wine_quality_loss: 0.3180 - val_wine_type_loss: 0.0271 - val_wine_quality_root_mean_squared_error: 0.5645 - val_wine_type_accuracy: 0.9949\n",
      "Epoch 118/180\n",
      "3155/3155 [==============================] - 0s 90us/sample - loss: 0.2957 - wine_quality_loss: 0.2759 - wine_type_loss: 0.0196 - wine_quality_root_mean_squared_error: 0.5255 - wine_type_accuracy: 0.9968 - val_loss: 0.3406 - val_wine_quality_loss: 0.3126 - val_wine_type_loss: 0.0273 - val_wine_quality_root_mean_squared_error: 0.5595 - val_wine_type_accuracy: 0.9949\n",
      "Epoch 119/180\n",
      "3155/3155 [==============================] - 0s 73us/sample - loss: 0.2950 - wine_quality_loss: 0.2749 - wine_type_loss: 0.0196 - wine_quality_root_mean_squared_error: 0.5247 - wine_type_accuracy: 0.9968 - val_loss: 0.3463 - val_wine_quality_loss: 0.3184 - val_wine_type_loss: 0.0272 - val_wine_quality_root_mean_squared_error: 0.5646 - val_wine_type_accuracy: 0.9949\n",
      "Epoch 120/180\n",
      "3155/3155 [==============================] - 0s 90us/sample - loss: 0.2941 - wine_quality_loss: 0.2745 - wine_type_loss: 0.0195 - wine_quality_root_mean_squared_error: 0.5240 - wine_type_accuracy: 0.9968 - val_loss: 0.3431 - val_wine_quality_loss: 0.3148 - val_wine_type_loss: 0.0272 - val_wine_quality_root_mean_squared_error: 0.5617 - val_wine_type_accuracy: 0.9949\n",
      "Epoch 121/180\n",
      "3155/3155 [==============================] - 0s 89us/sample - loss: 0.2939 - wine_quality_loss: 0.2746 - wine_type_loss: 0.0195 - wine_quality_root_mean_squared_error: 0.5238 - wine_type_accuracy: 0.9968 - val_loss: 0.3402 - val_wine_quality_loss: 0.3122 - val_wine_type_loss: 0.0271 - val_wine_quality_root_mean_squared_error: 0.5593 - val_wine_type_accuracy: 0.9949\n",
      "Epoch 122/180\n",
      "3155/3155 [==============================] - 0s 75us/sample - loss: 0.2920 - wine_quality_loss: 0.2723 - wine_type_loss: 0.0194 - wine_quality_root_mean_squared_error: 0.5221 - wine_type_accuracy: 0.9968 - val_loss: 0.3442 - val_wine_quality_loss: 0.3165 - val_wine_type_loss: 0.0272 - val_wine_quality_root_mean_squared_error: 0.5628 - val_wine_type_accuracy: 0.9949\n",
      "Epoch 123/180\n",
      "3155/3155 [==============================] - 0s 91us/sample - loss: 0.2927 - wine_quality_loss: 0.2736 - wine_type_loss: 0.0192 - wine_quality_root_mean_squared_error: 0.5228 - wine_type_accuracy: 0.9968 - val_loss: 0.3435 - val_wine_quality_loss: 0.3156 - val_wine_type_loss: 0.0272 - val_wine_quality_root_mean_squared_error: 0.5621 - val_wine_type_accuracy: 0.9949\n",
      "Epoch 124/180\n",
      "3155/3155 [==============================] - 0s 88us/sample - loss: 0.2918 - wine_quality_loss: 0.2725 - wine_type_loss: 0.0192 - wine_quality_root_mean_squared_error: 0.5220 - wine_type_accuracy: 0.9968 - val_loss: 0.3469 - val_wine_quality_loss: 0.3186 - val_wine_type_loss: 0.0272 - val_wine_quality_root_mean_squared_error: 0.5651 - val_wine_type_accuracy: 0.9949\n",
      "Epoch 125/180\n",
      "3155/3155 [==============================] - 0s 90us/sample - loss: 0.2918 - wine_quality_loss: 0.2720 - wine_type_loss: 0.0192 - wine_quality_root_mean_squared_error: 0.5221 - wine_type_accuracy: 0.9968 - val_loss: 0.3437 - val_wine_quality_loss: 0.3158 - val_wine_type_loss: 0.0272 - val_wine_quality_root_mean_squared_error: 0.5623 - val_wine_type_accuracy: 0.9949\n",
      "Epoch 126/180\n",
      "3155/3155 [==============================] - 0s 75us/sample - loss: 0.2912 - wine_quality_loss: 0.2724 - wine_type_loss: 0.0191 - wine_quality_root_mean_squared_error: 0.5216 - wine_type_accuracy: 0.9968 - val_loss: 0.3448 - val_wine_quality_loss: 0.3169 - val_wine_type_loss: 0.0271 - val_wine_quality_root_mean_squared_error: 0.5633 - val_wine_type_accuracy: 0.9949\n",
      "Epoch 127/180\n",
      "3155/3155 [==============================] - 0s 92us/sample - loss: 0.2903 - wine_quality_loss: 0.2718 - wine_type_loss: 0.0190 - wine_quality_root_mean_squared_error: 0.5208 - wine_type_accuracy: 0.9968 - val_loss: 0.3431 - val_wine_quality_loss: 0.3153 - val_wine_type_loss: 0.0271 - val_wine_quality_root_mean_squared_error: 0.5618 - val_wine_type_accuracy: 0.9949\n",
      "Epoch 128/180\n",
      "3155/3155 [==============================] - 0s 88us/sample - loss: 0.2906 - wine_quality_loss: 0.2712 - wine_type_loss: 0.0189 - wine_quality_root_mean_squared_error: 0.5212 - wine_type_accuracy: 0.9968 - val_loss: 0.3450 - val_wine_quality_loss: 0.3170 - val_wine_type_loss: 0.0271 - val_wine_quality_root_mean_squared_error: 0.5635 - val_wine_type_accuracy: 0.9949\n",
      "Epoch 129/180\n",
      "3155/3155 [==============================] - 0s 74us/sample - loss: 0.2903 - wine_quality_loss: 0.2717 - wine_type_loss: 0.0192 - wine_quality_root_mean_squared_error: 0.5209 - wine_type_accuracy: 0.9968 - val_loss: 0.3438 - val_wine_quality_loss: 0.3157 - val_wine_type_loss: 0.0271 - val_wine_quality_root_mean_squared_error: 0.5624 - val_wine_type_accuracy: 0.9949\n",
      "Epoch 130/180\n",
      "3155/3155 [==============================] - 0s 90us/sample - loss: 0.2897 - wine_quality_loss: 0.2713 - wine_type_loss: 0.0188 - wine_quality_root_mean_squared_error: 0.5204 - wine_type_accuracy: 0.9968 - val_loss: 0.3397 - val_wine_quality_loss: 0.3123 - val_wine_type_loss: 0.0270 - val_wine_quality_root_mean_squared_error: 0.5589 - val_wine_type_accuracy: 0.9949\n",
      "Epoch 131/180\n",
      "3155/3155 [==============================] - 0s 91us/sample - loss: 0.2888 - wine_quality_loss: 0.2701 - wine_type_loss: 0.0187 - wine_quality_root_mean_squared_error: 0.5197 - wine_type_accuracy: 0.9968 - val_loss: 0.3410 - val_wine_quality_loss: 0.3133 - val_wine_type_loss: 0.0270 - val_wine_quality_root_mean_squared_error: 0.5600 - val_wine_type_accuracy: 0.9949\n",
      "Epoch 132/180\n",
      "3155/3155 [==============================] - 0s 75us/sample - loss: 0.2890 - wine_quality_loss: 0.2700 - wine_type_loss: 0.0187 - wine_quality_root_mean_squared_error: 0.5199 - wine_type_accuracy: 0.9968 - val_loss: 0.3469 - val_wine_quality_loss: 0.3193 - val_wine_type_loss: 0.0270 - val_wine_quality_root_mean_squared_error: 0.5653 - val_wine_type_accuracy: 0.9949\n",
      "Epoch 133/180\n",
      "3155/3155 [==============================] - 0s 89us/sample - loss: 0.2878 - wine_quality_loss: 0.2692 - wine_type_loss: 0.0186 - wine_quality_root_mean_squared_error: 0.5189 - wine_type_accuracy: 0.9968 - val_loss: 0.3387 - val_wine_quality_loss: 0.3109 - val_wine_type_loss: 0.0269 - val_wine_quality_root_mean_squared_error: 0.5581 - val_wine_type_accuracy: 0.9949\n",
      "Epoch 134/180\n",
      "3155/3155 [==============================] - 0s 89us/sample - loss: 0.2877 - wine_quality_loss: 0.2688 - wine_type_loss: 0.0185 - wine_quality_root_mean_squared_error: 0.5187 - wine_type_accuracy: 0.9968 - val_loss: 0.3432 - val_wine_quality_loss: 0.3154 - val_wine_type_loss: 0.0269 - val_wine_quality_root_mean_squared_error: 0.5621 - val_wine_type_accuracy: 0.9949\n",
      "Epoch 135/180\n",
      "3155/3155 [==============================] - 0s 73us/sample - loss: 0.2879 - wine_quality_loss: 0.2693 - wine_type_loss: 0.0192 - wine_quality_root_mean_squared_error: 0.5191 - wine_type_accuracy: 0.9968 - val_loss: 0.3424 - val_wine_quality_loss: 0.3151 - val_wine_type_loss: 0.0268 - val_wine_quality_root_mean_squared_error: 0.5615 - val_wine_type_accuracy: 0.9949\n",
      "Epoch 136/180\n",
      "3155/3155 [==============================] - 0s 91us/sample - loss: 0.2876 - wine_quality_loss: 0.2694 - wine_type_loss: 0.0188 - wine_quality_root_mean_squared_error: 0.5188 - wine_type_accuracy: 0.9968 - val_loss: 0.3478 - val_wine_quality_loss: 0.3199 - val_wine_type_loss: 0.0269 - val_wine_quality_root_mean_squared_error: 0.5662 - val_wine_type_accuracy: 0.9949\n",
      "Epoch 137/180\n",
      "3155/3155 [==============================] - 0s 89us/sample - loss: 0.2855 - wine_quality_loss: 0.2670 - wine_type_loss: 0.0183 - wine_quality_root_mean_squared_error: 0.5168 - wine_type_accuracy: 0.9968 - val_loss: 0.3458 - val_wine_quality_loss: 0.3179 - val_wine_type_loss: 0.0269 - val_wine_quality_root_mean_squared_error: 0.5644 - val_wine_type_accuracy: 0.9949\n",
      "Epoch 138/180\n",
      "3155/3155 [==============================] - 0s 73us/sample - loss: 0.2856 - wine_quality_loss: 0.2678 - wine_type_loss: 0.0182 - wine_quality_root_mean_squared_error: 0.5171 - wine_type_accuracy: 0.9968 - val_loss: 0.3460 - val_wine_quality_loss: 0.3182 - val_wine_type_loss: 0.0269 - val_wine_quality_root_mean_squared_error: 0.5646 - val_wine_type_accuracy: 0.9949\n",
      "Epoch 139/180\n",
      "3155/3155 [==============================] - 0s 89us/sample - loss: 0.2858 - wine_quality_loss: 0.2675 - wine_type_loss: 0.0181 - wine_quality_root_mean_squared_error: 0.5173 - wine_type_accuracy: 0.9968 - val_loss: 0.3461 - val_wine_quality_loss: 0.3185 - val_wine_type_loss: 0.0269 - val_wine_quality_root_mean_squared_error: 0.5647 - val_wine_type_accuracy: 0.9949\n",
      "Epoch 140/180\n",
      "3155/3155 [==============================] - 0s 90us/sample - loss: 0.2849 - wine_quality_loss: 0.2669 - wine_type_loss: 0.0180 - wine_quality_root_mean_squared_error: 0.5166 - wine_type_accuracy: 0.9968 - val_loss: 0.3527 - val_wine_quality_loss: 0.3251 - val_wine_type_loss: 0.0270 - val_wine_quality_root_mean_squared_error: 0.5704 - val_wine_type_accuracy: 0.9949\n",
      "Epoch 141/180\n",
      "3155/3155 [==============================] - 0s 73us/sample - loss: 0.2845 - wine_quality_loss: 0.2668 - wine_type_loss: 0.0180 - wine_quality_root_mean_squared_error: 0.5162 - wine_type_accuracy: 0.9968 - val_loss: 0.3467 - val_wine_quality_loss: 0.3195 - val_wine_type_loss: 0.0270 - val_wine_quality_root_mean_squared_error: 0.5652 - val_wine_type_accuracy: 0.9949\n",
      "Epoch 142/180\n",
      "3155/3155 [==============================] - 0s 90us/sample - loss: 0.2830 - wine_quality_loss: 0.2652 - wine_type_loss: 0.0179 - wine_quality_root_mean_squared_error: 0.5149 - wine_type_accuracy: 0.9968 - val_loss: 0.3425 - val_wine_quality_loss: 0.3150 - val_wine_type_loss: 0.0269 - val_wine_quality_root_mean_squared_error: 0.5615 - val_wine_type_accuracy: 0.9949\n",
      "Epoch 143/180\n",
      "3155/3155 [==============================] - 0s 89us/sample - loss: 0.2827 - wine_quality_loss: 0.2649 - wine_type_loss: 0.0178 - wine_quality_root_mean_squared_error: 0.5146 - wine_type_accuracy: 0.9971 - val_loss: 0.3427 - val_wine_quality_loss: 0.3152 - val_wine_type_loss: 0.0269 - val_wine_quality_root_mean_squared_error: 0.5617 - val_wine_type_accuracy: 0.9949\n",
      "Epoch 144/180\n",
      "3155/3155 [==============================] - 0s 75us/sample - loss: 0.2841 - wine_quality_loss: 0.2666 - wine_type_loss: 0.0178 - wine_quality_root_mean_squared_error: 0.5160 - wine_type_accuracy: 0.9968 - val_loss: 0.3434 - val_wine_quality_loss: 0.3157 - val_wine_type_loss: 0.0268 - val_wine_quality_root_mean_squared_error: 0.5624 - val_wine_type_accuracy: 0.9949\n",
      "Epoch 145/180\n",
      "3155/3155 [==============================] - 0s 90us/sample - loss: 0.2838 - wine_quality_loss: 0.2663 - wine_type_loss: 0.0181 - wine_quality_root_mean_squared_error: 0.5158 - wine_type_accuracy: 0.9971 - val_loss: 0.3380 - val_wine_quality_loss: 0.3105 - val_wine_type_loss: 0.0269 - val_wine_quality_root_mean_squared_error: 0.5575 - val_wine_type_accuracy: 0.9949\n",
      "Epoch 146/180\n",
      "3155/3155 [==============================] - 0s 89us/sample - loss: 0.2829 - wine_quality_loss: 0.2650 - wine_type_loss: 0.0177 - wine_quality_root_mean_squared_error: 0.5149 - wine_type_accuracy: 0.9968 - val_loss: 0.3408 - val_wine_quality_loss: 0.3131 - val_wine_type_loss: 0.0268 - val_wine_quality_root_mean_squared_error: 0.5601 - val_wine_type_accuracy: 0.9949\n",
      "Epoch 147/180\n",
      "3155/3155 [==============================] - 0s 75us/sample - loss: 0.2831 - wine_quality_loss: 0.2654 - wine_type_loss: 0.0175 - wine_quality_root_mean_squared_error: 0.5153 - wine_type_accuracy: 0.9968 - val_loss: 0.3391 - val_wine_quality_loss: 0.3115 - val_wine_type_loss: 0.0269 - val_wine_quality_root_mean_squared_error: 0.5585 - val_wine_type_accuracy: 0.9949\n",
      "Epoch 148/180\n",
      "3155/3155 [==============================] - 0s 89us/sample - loss: 0.2821 - wine_quality_loss: 0.2647 - wine_type_loss: 0.0176 - wine_quality_root_mean_squared_error: 0.5142 - wine_type_accuracy: 0.9971 - val_loss: 0.3409 - val_wine_quality_loss: 0.3136 - val_wine_type_loss: 0.0269 - val_wine_quality_root_mean_squared_error: 0.5601 - val_wine_type_accuracy: 0.9949\n",
      "Epoch 149/180\n",
      "3155/3155 [==============================] - 0s 91us/sample - loss: 0.2813 - wine_quality_loss: 0.2637 - wine_type_loss: 0.0175 - wine_quality_root_mean_squared_error: 0.5136 - wine_type_accuracy: 0.9968 - val_loss: 0.3406 - val_wine_quality_loss: 0.3130 - val_wine_type_loss: 0.0270 - val_wine_quality_root_mean_squared_error: 0.5597 - val_wine_type_accuracy: 0.9949\n",
      "Epoch 150/180\n",
      "3155/3155 [==============================] - 0s 71us/sample - loss: 0.2805 - wine_quality_loss: 0.2630 - wine_type_loss: 0.0175 - wine_quality_root_mean_squared_error: 0.5128 - wine_type_accuracy: 0.9971 - val_loss: 0.3413 - val_wine_quality_loss: 0.3138 - val_wine_type_loss: 0.0269 - val_wine_quality_root_mean_squared_error: 0.5604 - val_wine_type_accuracy: 0.9949\n",
      "Epoch 151/180\n",
      "3155/3155 [==============================] - 0s 91us/sample - loss: 0.2808 - wine_quality_loss: 0.2633 - wine_type_loss: 0.0173 - wine_quality_root_mean_squared_error: 0.5132 - wine_type_accuracy: 0.9971 - val_loss: 0.3443 - val_wine_quality_loss: 0.3167 - val_wine_type_loss: 0.0269 - val_wine_quality_root_mean_squared_error: 0.5631 - val_wine_type_accuracy: 0.9949\n",
      "Epoch 152/180\n",
      "3155/3155 [==============================] - 0s 88us/sample - loss: 0.2804 - wine_quality_loss: 0.2631 - wine_type_loss: 0.0173 - wine_quality_root_mean_squared_error: 0.5129 - wine_type_accuracy: 0.9971 - val_loss: 0.3459 - val_wine_quality_loss: 0.3183 - val_wine_type_loss: 0.0269 - val_wine_quality_root_mean_squared_error: 0.5644 - val_wine_type_accuracy: 0.9949\n",
      "Epoch 153/180\n",
      "3155/3155 [==============================] - 0s 76us/sample - loss: 0.2800 - wine_quality_loss: 0.2628 - wine_type_loss: 0.0172 - wine_quality_root_mean_squared_error: 0.5125 - wine_type_accuracy: 0.9971 - val_loss: 0.3445 - val_wine_quality_loss: 0.3169 - val_wine_type_loss: 0.0268 - val_wine_quality_root_mean_squared_error: 0.5633 - val_wine_type_accuracy: 0.9949\n",
      "Epoch 154/180\n",
      "3155/3155 [==============================] - 0s 88us/sample - loss: 0.2787 - wine_quality_loss: 0.2612 - wine_type_loss: 0.0172 - wine_quality_root_mean_squared_error: 0.5114 - wine_type_accuracy: 0.9971 - val_loss: 0.3379 - val_wine_quality_loss: 0.3105 - val_wine_type_loss: 0.0268 - val_wine_quality_root_mean_squared_error: 0.5574 - val_wine_type_accuracy: 0.9949\n",
      "Epoch 155/180\n",
      "3155/3155 [==============================] - 0s 90us/sample - loss: 0.2804 - wine_quality_loss: 0.2634 - wine_type_loss: 0.0171 - wine_quality_root_mean_squared_error: 0.5132 - wine_type_accuracy: 0.9971 - val_loss: 0.3429 - val_wine_quality_loss: 0.3153 - val_wine_type_loss: 0.0268 - val_wine_quality_root_mean_squared_error: 0.5619 - val_wine_type_accuracy: 0.9949\n",
      "Epoch 156/180\n",
      "3155/3155 [==============================] - 0s 73us/sample - loss: 0.2790 - wine_quality_loss: 0.2625 - wine_type_loss: 0.0170 - wine_quality_root_mean_squared_error: 0.5118 - wine_type_accuracy: 0.9971 - val_loss: 0.3458 - val_wine_quality_loss: 0.3182 - val_wine_type_loss: 0.0268 - val_wine_quality_root_mean_squared_error: 0.5645 - val_wine_type_accuracy: 0.9949\n",
      "Epoch 157/180\n",
      "3155/3155 [==============================] - 0s 90us/sample - loss: 0.2780 - wine_quality_loss: 0.2611 - wine_type_loss: 0.0169 - wine_quality_root_mean_squared_error: 0.5110 - wine_type_accuracy: 0.9971 - val_loss: 0.3439 - val_wine_quality_loss: 0.3162 - val_wine_type_loss: 0.0268 - val_wine_quality_root_mean_squared_error: 0.5628 - val_wine_type_accuracy: 0.9949\n",
      "Epoch 158/180\n",
      "3155/3155 [==============================] - 0s 88us/sample - loss: 0.2775 - wine_quality_loss: 0.2605 - wine_type_loss: 0.0169 - wine_quality_root_mean_squared_error: 0.5104 - wine_type_accuracy: 0.9971 - val_loss: 0.3478 - val_wine_quality_loss: 0.3204 - val_wine_type_loss: 0.0268 - val_wine_quality_root_mean_squared_error: 0.5663 - val_wine_type_accuracy: 0.9949\n",
      "Epoch 159/180\n",
      "3155/3155 [==============================] - 0s 75us/sample - loss: 0.2787 - wine_quality_loss: 0.2617 - wine_type_loss: 0.0168 - wine_quality_root_mean_squared_error: 0.5118 - wine_type_accuracy: 0.9971 - val_loss: 0.3409 - val_wine_quality_loss: 0.3134 - val_wine_type_loss: 0.0269 - val_wine_quality_root_mean_squared_error: 0.5601 - val_wine_type_accuracy: 0.9949\n",
      "Epoch 160/180\n",
      "3155/3155 [==============================] - 0s 89us/sample - loss: 0.2772 - wine_quality_loss: 0.2600 - wine_type_loss: 0.0168 - wine_quality_root_mean_squared_error: 0.5102 - wine_type_accuracy: 0.9971 - val_loss: 0.3489 - val_wine_quality_loss: 0.3215 - val_wine_type_loss: 0.0267 - val_wine_quality_root_mean_squared_error: 0.5673 - val_wine_type_accuracy: 0.9949\n",
      "Epoch 161/180\n",
      "3155/3155 [==============================] - 0s 87us/sample - loss: 0.2773 - wine_quality_loss: 0.2599 - wine_type_loss: 0.0167 - wine_quality_root_mean_squared_error: 0.5104 - wine_type_accuracy: 0.9971 - val_loss: 0.3465 - val_wine_quality_loss: 0.3188 - val_wine_type_loss: 0.0267 - val_wine_quality_root_mean_squared_error: 0.5652 - val_wine_type_accuracy: 0.9949\n",
      "Epoch 162/180\n",
      "3155/3155 [==============================] - 0s 75us/sample - loss: 0.2764 - wine_quality_loss: 0.2593 - wine_type_loss: 0.0169 - wine_quality_root_mean_squared_error: 0.5096 - wine_type_accuracy: 0.9971 - val_loss: 0.3489 - val_wine_quality_loss: 0.3211 - val_wine_type_loss: 0.0266 - val_wine_quality_root_mean_squared_error: 0.5673 - val_wine_type_accuracy: 0.9949\n",
      "Epoch 163/180\n",
      "3155/3155 [==============================] - 0s 92us/sample - loss: 0.2765 - wine_quality_loss: 0.2601 - wine_type_loss: 0.0166 - wine_quality_root_mean_squared_error: 0.5097 - wine_type_accuracy: 0.9971 - val_loss: 0.3435 - val_wine_quality_loss: 0.3161 - val_wine_type_loss: 0.0267 - val_wine_quality_root_mean_squared_error: 0.5626 - val_wine_type_accuracy: 0.9949\n",
      "Epoch 164/180\n",
      "3155/3155 [==============================] - 0s 89us/sample - loss: 0.2750 - wine_quality_loss: 0.2580 - wine_type_loss: 0.0166 - wine_quality_root_mean_squared_error: 0.5083 - wine_type_accuracy: 0.9971 - val_loss: 0.3371 - val_wine_quality_loss: 0.3102 - val_wine_type_loss: 0.0265 - val_wine_quality_root_mean_squared_error: 0.5570 - val_wine_type_accuracy: 0.9949\n",
      "Epoch 165/180\n",
      "3155/3155 [==============================] - 0s 76us/sample - loss: 0.2759 - wine_quality_loss: 0.2595 - wine_type_loss: 0.0165 - wine_quality_root_mean_squared_error: 0.5093 - wine_type_accuracy: 0.9971 - val_loss: 0.3454 - val_wine_quality_loss: 0.3181 - val_wine_type_loss: 0.0266 - val_wine_quality_root_mean_squared_error: 0.5643 - val_wine_type_accuracy: 0.9949\n",
      "Epoch 166/180\n",
      "3155/3155 [==============================] - 0s 90us/sample - loss: 0.2750 - wine_quality_loss: 0.2588 - wine_type_loss: 0.0165 - wine_quality_root_mean_squared_error: 0.5085 - wine_type_accuracy: 0.9971 - val_loss: 0.3522 - val_wine_quality_loss: 0.3247 - val_wine_type_loss: 0.0266 - val_wine_quality_root_mean_squared_error: 0.5703 - val_wine_type_accuracy: 0.9949\n",
      "Epoch 167/180\n",
      "3155/3155 [==============================] - 0s 91us/sample - loss: 0.2745 - wine_quality_loss: 0.2581 - wine_type_loss: 0.0163 - wine_quality_root_mean_squared_error: 0.5080 - wine_type_accuracy: 0.9971 - val_loss: 0.3429 - val_wine_quality_loss: 0.3155 - val_wine_type_loss: 0.0266 - val_wine_quality_root_mean_squared_error: 0.5621 - val_wine_type_accuracy: 0.9949\n",
      "Epoch 168/180\n",
      "3155/3155 [==============================] - 0s 90us/sample - loss: 0.2738 - wine_quality_loss: 0.2577 - wine_type_loss: 0.0163 - wine_quality_root_mean_squared_error: 0.5074 - wine_type_accuracy: 0.9971 - val_loss: 0.3556 - val_wine_quality_loss: 0.3278 - val_wine_type_loss: 0.0266 - val_wine_quality_root_mean_squared_error: 0.5733 - val_wine_type_accuracy: 0.9949\n",
      "Epoch 169/180\n",
      "3155/3155 [==============================] - 0s 74us/sample - loss: 0.2736 - wine_quality_loss: 0.2570 - wine_type_loss: 0.0162 - wine_quality_root_mean_squared_error: 0.5073 - wine_type_accuracy: 0.9971 - val_loss: 0.3426 - val_wine_quality_loss: 0.3153 - val_wine_type_loss: 0.0265 - val_wine_quality_root_mean_squared_error: 0.5619 - val_wine_type_accuracy: 0.9949\n",
      "Epoch 170/180\n",
      "3155/3155 [==============================] - 0s 90us/sample - loss: 0.2734 - wine_quality_loss: 0.2569 - wine_type_loss: 0.0161 - wine_quality_root_mean_squared_error: 0.5071 - wine_type_accuracy: 0.9971 - val_loss: 0.3524 - val_wine_quality_loss: 0.3248 - val_wine_type_loss: 0.0265 - val_wine_quality_root_mean_squared_error: 0.5706 - val_wine_type_accuracy: 0.9949\n",
      "Epoch 171/180\n",
      "3155/3155 [==============================] - 0s 90us/sample - loss: 0.2739 - wine_quality_loss: 0.2579 - wine_type_loss: 0.0161 - wine_quality_root_mean_squared_error: 0.5077 - wine_type_accuracy: 0.9971 - val_loss: 0.3404 - val_wine_quality_loss: 0.3131 - val_wine_type_loss: 0.0266 - val_wine_quality_root_mean_squared_error: 0.5599 - val_wine_type_accuracy: 0.9949\n",
      "Epoch 172/180\n",
      "3155/3155 [==============================] - 0s 73us/sample - loss: 0.2728 - wine_quality_loss: 0.2565 - wine_type_loss: 0.0160 - wine_quality_root_mean_squared_error: 0.5067 - wine_type_accuracy: 0.9971 - val_loss: 0.3405 - val_wine_quality_loss: 0.3133 - val_wine_type_loss: 0.0267 - val_wine_quality_root_mean_squared_error: 0.5599 - val_wine_type_accuracy: 0.9949\n",
      "Epoch 173/180\n",
      "3155/3155 [==============================] - 0s 90us/sample - loss: 0.2723 - wine_quality_loss: 0.2557 - wine_type_loss: 0.0160 - wine_quality_root_mean_squared_error: 0.5061 - wine_type_accuracy: 0.9971 - val_loss: 0.3451 - val_wine_quality_loss: 0.3178 - val_wine_type_loss: 0.0268 - val_wine_quality_root_mean_squared_error: 0.5639 - val_wine_type_accuracy: 0.9949\n",
      "Epoch 174/180\n",
      "3155/3155 [==============================] - 0s 92us/sample - loss: 0.2729 - wine_quality_loss: 0.2572 - wine_type_loss: 0.0164 - wine_quality_root_mean_squared_error: 0.5068 - wine_type_accuracy: 0.9971 - val_loss: 0.3406 - val_wine_quality_loss: 0.3134 - val_wine_type_loss: 0.0267 - val_wine_quality_root_mean_squared_error: 0.5599 - val_wine_type_accuracy: 0.9949\n",
      "Epoch 175/180\n",
      "3155/3155 [==============================] - 0s 72us/sample - loss: 0.2715 - wine_quality_loss: 0.2550 - wine_type_loss: 0.0159 - wine_quality_root_mean_squared_error: 0.5055 - wine_type_accuracy: 0.9971 - val_loss: 0.3431 - val_wine_quality_loss: 0.3161 - val_wine_type_loss: 0.0267 - val_wine_quality_root_mean_squared_error: 0.5622 - val_wine_type_accuracy: 0.9949\n",
      "Epoch 176/180\n",
      "3155/3155 [==============================] - 0s 89us/sample - loss: 0.2699 - wine_quality_loss: 0.2542 - wine_type_loss: 0.0158 - wine_quality_root_mean_squared_error: 0.5041 - wine_type_accuracy: 0.9971 - val_loss: 0.3393 - val_wine_quality_loss: 0.3121 - val_wine_type_loss: 0.0267 - val_wine_quality_root_mean_squared_error: 0.5588 - val_wine_type_accuracy: 0.9949\n",
      "Epoch 177/180\n",
      "3155/3155 [==============================] - 0s 92us/sample - loss: 0.2711 - wine_quality_loss: 0.2549 - wine_type_loss: 0.0158 - wine_quality_root_mean_squared_error: 0.5052 - wine_type_accuracy: 0.9971 - val_loss: 0.3490 - val_wine_quality_loss: 0.3219 - val_wine_type_loss: 0.0266 - val_wine_quality_root_mean_squared_error: 0.5675 - val_wine_type_accuracy: 0.9949\n",
      "Epoch 178/180\n",
      "3155/3155 [==============================] - 0s 87us/sample - loss: 0.2707 - wine_quality_loss: 0.2546 - wine_type_loss: 0.0157 - wine_quality_root_mean_squared_error: 0.5049 - wine_type_accuracy: 0.9971 - val_loss: 0.3467 - val_wine_quality_loss: 0.3196 - val_wine_type_loss: 0.0266 - val_wine_quality_root_mean_squared_error: 0.5655 - val_wine_type_accuracy: 0.9949\n",
      "Epoch 179/180\n",
      "3155/3155 [==============================] - 0s 75us/sample - loss: 0.2703 - wine_quality_loss: 0.2544 - wine_type_loss: 0.0156 - wine_quality_root_mean_squared_error: 0.5046 - wine_type_accuracy: 0.9971 - val_loss: 0.3485 - val_wine_quality_loss: 0.3209 - val_wine_type_loss: 0.0266 - val_wine_quality_root_mean_squared_error: 0.5670 - val_wine_type_accuracy: 0.9949\n",
      "Epoch 180/180\n",
      "3155/3155 [==============================] - 0s 88us/sample - loss: 0.2698 - wine_quality_loss: 0.2540 - wine_type_loss: 0.0155 - wine_quality_root_mean_squared_error: 0.5042 - wine_type_accuracy: 0.9971 - val_loss: 0.3421 - val_wine_quality_loss: 0.3150 - val_wine_type_loss: 0.0267 - val_wine_quality_root_mean_squared_error: 0.5614 - val_wine_type_accuracy: 0.9949\n"
     ]
    }
   ],
   "source": [
    "## Please uncomment all lines in this cell and replace those marked with `# YOUR CODE HERE`.\n",
    "## You can select all lines in this code cell with Ctrl+A (Windows/Linux) or Cmd+A (Mac), then press Ctrl+/ (Windows/Linux) or Cmd+/ (Mac) to uncomment.\n",
    "\n",
    "\n",
    "\n",
    "history = model.fit(norm_train_X,(train_Y[0],train_Y[1]),\n",
    "                    epochs = 180, validation_data=(norm_val_X, (val_Y[0],val_Y[1])))"
   ]
  },
  {
   "cell_type": "code",
   "execution_count": 40,
   "metadata": {
    "deletable": false,
    "editable": false,
    "nbgrader": {
     "cell_type": "code",
     "checksum": "fadad8896eda9c8c2115970724b15508",
     "grade": true,
     "grade_id": "cell-eb4d5b41bef8f0ab",
     "locked": true,
     "points": 1,
     "schema_version": 3,
     "solution": false,
     "task": false
    }
   },
   "outputs": [
    {
     "name": "stdout",
     "output_type": "stream",
     "text": [
      "\u001b[92m All public tests passed\n"
     ]
    }
   ],
   "source": [
    "utils.test_history(history)"
   ]
  },
  {
   "cell_type": "code",
   "execution_count": 42,
   "metadata": {
    "colab": {},
    "colab_type": "code",
    "id": "CubF2J2gSf6q"
   },
   "outputs": [
    {
     "name": "stdout",
     "output_type": "stream",
     "text": [
      "789/789 [==============================] - 0s 21us/sample - loss: 0.3421 - wine_quality_loss: 0.3150 - wine_type_loss: 0.0267 - wine_quality_root_mean_squared_error: 0.5614 - wine_type_accuracy: 0.9949\n",
      "\n",
      "loss: 0.3421220304243767\n",
      "wine_quality_loss: 0.31503164768218994\n",
      "wine_type_loss: 0.026662888005375862\n",
      "wine_quality_rmse: 0.5613526701927185\n",
      "wine_type_accuracy: 0.9949302673339844\n"
     ]
    }
   ],
   "source": [
    "# Gather the training metrics\n",
    "loss, wine_quality_loss, wine_type_loss, wine_quality_rmse, wine_type_accuracy = model.evaluate(x=norm_val_X, y=(val_Y[0],val_Y[1]))\n",
    "\n",
    "print()\n",
    "print(f'loss: {loss}')\n",
    "print(f'wine_quality_loss: {wine_quality_loss}')\n",
    "print(f'wine_type_loss: {wine_type_loss}')\n",
    "print(f'wine_quality_rmse: {wine_quality_rmse}')\n",
    "print(f'wine_type_accuracy: {wine_type_accuracy}')\n",
    "\n",
    "# EXPECTED VALUES\n",
    "# ~ 0.30 - 0.38\n",
    "# ~ 0.30 - 0.38\n",
    "# ~ 0.018 - 0.030\n",
    "# ~ 0.50 - 0.62\n",
    "# ~ 0.97 - 1.0\n",
    "\n",
    "# Example:\n",
    "#0.3657050132751465\n",
    "#0.3463745415210724\n",
    "#0.019330406561493874\n",
    "#0.5885359048843384\n",
    "#0.9974651336669922"
   ]
  },
  {
   "cell_type": "markdown",
   "metadata": {
    "colab_type": "text",
    "id": "gPtTGAP4usnm"
   },
   "source": [
    "## Analyze the Model Performance\n",
    "\n",
    "Note that the model has two outputs. The output at index 0 is quality and index 1 is wine type\n",
    "\n",
    "So, round the quality predictions to the nearest integer."
   ]
  },
  {
   "cell_type": "code",
   "execution_count": 43,
   "metadata": {
    "colab": {},
    "colab_type": "code",
    "id": "tBq9PEeAaW-Y"
   },
   "outputs": [],
   "source": [
    "predictions = model.predict(norm_test_X)\n",
    "quality_pred = predictions[0]\n",
    "type_pred = predictions[1]"
   ]
  },
  {
   "cell_type": "code",
   "execution_count": 44,
   "metadata": {
    "colab": {},
    "colab_type": "code",
    "id": "YLhgTR4xTIxj"
   },
   "outputs": [
    {
     "name": "stdout",
     "output_type": "stream",
     "text": [
      "[5.6071434]\n"
     ]
    }
   ],
   "source": [
    "print(quality_pred[0])\n",
    "\n",
    "# EXPECTED OUTPUT\n",
    "# 5.6 - 6.0"
   ]
  },
  {
   "cell_type": "code",
   "execution_count": 45,
   "metadata": {
    "colab": {},
    "colab_type": "code",
    "id": "MPi-eYfGTUXi"
   },
   "outputs": [
    {
     "name": "stdout",
     "output_type": "stream",
     "text": [
      "[0.00016662]\n",
      "[0.9999653]\n"
     ]
    }
   ],
   "source": [
    "print(type_pred[0])\n",
    "print(type_pred[944])\n",
    "\n",
    "# EXPECTED OUTPUT\n",
    "# A number close to zero\n",
    "# A number close to or equal to 1"
   ]
  },
  {
   "cell_type": "markdown",
   "metadata": {
    "colab_type": "text",
    "id": "Kohk-9C6vt_s"
   },
   "source": [
    "### Plot Utilities\n",
    "\n",
    "We define a few utilities to visualize the model performance."
   ]
  },
  {
   "cell_type": "code",
   "execution_count": 46,
   "metadata": {
    "colab": {},
    "colab_type": "code",
    "id": "62gEOFUhn6aQ"
   },
   "outputs": [],
   "source": [
    "def plot_metrics(metric_name, title, ylim=5):\n",
    "    plt.title(title)\n",
    "    plt.ylim(0,ylim)\n",
    "    plt.plot(history.history[metric_name],color='blue',label=metric_name)\n",
    "    plt.plot(history.history['val_' + metric_name],color='green',label='val_' + metric_name)\n"
   ]
  },
  {
   "cell_type": "code",
   "execution_count": 47,
   "metadata": {
    "colab": {},
    "colab_type": "code",
    "id": "6rfgSx7uz5dj"
   },
   "outputs": [],
   "source": [
    "def plot_confusion_matrix(y_true, y_pred, title='', labels=[0,1]):\n",
    "    cm = confusion_matrix(y_true, y_pred)\n",
    "    fig = plt.figure()\n",
    "    ax = fig.add_subplot(111)\n",
    "    cax = ax.matshow(cm)\n",
    "    plt.title('Confusion matrix of the classifier')\n",
    "    fig.colorbar(cax)\n",
    "    ax.set_xticklabels([''] + labels)\n",
    "    ax.set_yticklabels([''] + labels)\n",
    "    plt.xlabel('Predicted')\n",
    "    plt.ylabel('True')\n",
    "    fmt = 'd'\n",
    "    thresh = cm.max() / 2.\n",
    "    for i, j in itertools.product(range(cm.shape[0]), range(cm.shape[1])):\n",
    "          plt.text(j, i, format(cm[i, j], fmt),\n",
    "                  horizontalalignment=\"center\",\n",
    "                  color=\"black\" if cm[i, j] > thresh else \"white\")\n",
    "    plt.show()"
   ]
  },
  {
   "cell_type": "code",
   "execution_count": 48,
   "metadata": {
    "colab": {},
    "colab_type": "code",
    "id": "dfVLIqi017Vf"
   },
   "outputs": [],
   "source": [
    "def plot_diff(y_true, y_pred, title = '' ):\n",
    "    plt.scatter(y_true, y_pred)\n",
    "    plt.title(title)\n",
    "    plt.xlabel('True Values')\n",
    "    plt.ylabel('Predictions')\n",
    "    plt.axis('equal')\n",
    "    plt.axis('square')\n",
    "    plt.plot([-100, 100], [-100, 100])\n",
    "    return plt"
   ]
  },
  {
   "cell_type": "markdown",
   "metadata": {
    "colab_type": "text",
    "id": "8sd1jdFbwE0I"
   },
   "source": [
    "### Plots for Metrics"
   ]
  },
  {
   "cell_type": "code",
   "execution_count": 49,
   "metadata": {
    "colab": {},
    "colab_type": "code",
    "id": "f3MwZ5J1pOfj"
   },
   "outputs": [
    {
     "data": {
      "image/png": "[encoded data removed]",
      "text/plain": [
       "<Figure size 432x288 with 1 Axes>"
      ]
     },
     "metadata": {
      "needs_background": "light"
     },
     "output_type": "display_data"
    }
   ],
   "source": [
    "plot_metrics('wine_quality_root_mean_squared_error', 'RMSE', ylim=2)"
   ]
  },
  {
   "cell_type": "code",
   "execution_count": 50,
   "metadata": {
    "colab": {},
    "colab_type": "code",
    "id": "QIAxEezCppnd"
   },
   "outputs": [
    {
     "data": {
      "image/png": "[encoded data removed]",
      "text/plain": [
       "<Figure size 432x288 with 1 Axes>"
      ]
     },
     "metadata": {
      "needs_background": "light"
     },
     "output_type": "display_data"
    }
   ],
   "source": [
    "plot_metrics('wine_type_loss', 'Wine Type Loss', ylim=0.2)"
   ]
  },
  {
   "cell_type": "markdown",
   "metadata": {
    "colab_type": "text",
    "id": "uYV9AOAMwI9p"
   },
   "source": [
    "### Plots for Confusion Matrix\n",
    "\n",
    "Plot the confusion matrices for wine type. You can see that the model performs well for prediction of wine type from the confusion matrix and the loss metrics."
   ]
  },
  {
   "cell_type": "code",
   "execution_count": 51,
   "metadata": {
    "colab": {},
    "colab_type": "code",
    "id": "C3hvTYxIaf3n"
   },
   "outputs": [
    {
     "data": {
      "image/png": "[encoded data removed]",
      "text/plain": [
       "<Figure size 432x288 with 2 Axes>"
      ]
     },
     "metadata": {
      "needs_background": "light"
     },
     "output_type": "display_data"
    }
   ],
   "source": [
    "plot_confusion_matrix(test_Y[1], np.round(type_pred), title='Wine Type', labels = [0, 1])"
   ]
  },
  {
   "cell_type": "code",
   "execution_count": 52,
   "metadata": {
    "colab": {},
    "colab_type": "code",
    "id": "GW91ym8P2I5y"
   },
   "outputs": [
    {
     "data": {
      "image/png": "[encoded data removed]",
      "text/plain": [
       "<Figure size 432x288 with 1 Axes>"
      ]
     },
     "metadata": {
      "needs_background": "light"
     },
     "output_type": "display_data"
    }
   ],
   "source": [
    "scatter_plot = plot_diff(test_Y[0], quality_pred, title='Type')"
   ]
  },
  {
   "cell_type": "code",
   "execution_count": null,
   "metadata": {},
   "outputs": [],
   "source": []
  }
 ],
 "metadata": {
  "colab": {
   "include_colab_link": true,
   "name": "exercise-answer.ipynb",
   "provenance": []
  },
  "kernelspec": {
   "display_name": "Python 3",
   "language": "python",
   "name": "python3"
  }
 },
 "nbformat": 4,
 "nbformat_minor": 4
}
